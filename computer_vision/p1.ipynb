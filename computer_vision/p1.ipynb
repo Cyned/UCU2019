{
 "cells": [
  {
   "cell_type": "code",
   "execution_count": 1,
   "metadata": {
    "scrolled": true
   },
   "outputs": [
    {
     "name": "stdout",
     "output_type": "stream",
     "text": [
      "1.13.1\n"
     ]
    }
   ],
   "source": [
    "import tensorflow as tf\n",
    "print(tf.__version__)"
   ]
  },
  {
   "cell_type": "code",
   "execution_count": 6,
   "metadata": {},
   "outputs": [],
   "source": [
    "# variables in tf <=> tensors\n",
    "\n",
    "# by default, TF supposes two steps computational grpah building and execution\n",
    "# execution graph - directional graph of operations wiht tensors\n",
    "# session - execution of graph\n",
    "\n",
    "\n",
    "# summaries\n",
    "# tensorboard"
   ]
  },
  {
   "cell_type": "code",
   "execution_count": 35,
   "metadata": {},
   "outputs": [
    {
     "name": "stdout",
     "output_type": "stream",
     "text": [
      "[ 2  4  6  8 10]\n"
     ]
    }
   ],
   "source": [
    "# Create variables with exact values\n",
    "\n",
    "tf.reset_default_graph()\n",
    "\n",
    "v1 = tf.Variable([1,2,3,4,5], name='v1')\n",
    "v2 = tf.Variable([1,2,3,4,5], name='v2')\n",
    "\n",
    "v3 = tf.add(v1, v2, name=\"add\")\n",
    "\n",
    "with tf.Session() as sess:\n",
    "    sess.run(tf.global_variables_initializer())\n",
    "    \n",
    "    vo3 = sess.run(v3)\n",
    "    print(vo3)"
   ]
  },
  {
   "cell_type": "code",
   "execution_count": 37,
   "metadata": {},
   "outputs": [
    {
     "name": "stdout",
     "output_type": "stream",
     "text": [
      "vo4\n",
      " [[1. 1. 1.]\n",
      " [1. 1. 1.]]\n",
      "vo5\n",
      " [[0. 0. 0.]\n",
      " [0. 0. 0.]]\n",
      "vo6\n",
      " [[1. 1. 1.]\n",
      " [1. 1. 1.]]\n"
     ]
    }
   ],
   "source": [
    "# create multidimentional variables (tensors)\n",
    "\n",
    "tf.reset_default_graph()\n",
    "\n",
    "v4 = tf.ones([2,3], name='v4')\n",
    "v5 = tf.zeros([2,3], name='v5')\n",
    "\n",
    "#TODO: you may try random initializers: tf.random.random_normal, ....  \n",
    "\n",
    "v6 = tf.add(v4, v5, name=\"add_ones\")\n",
    "\n",
    "with tf.Session() as sess:\n",
    "    sess.run(tf.global_variables_initializer())\n",
    "    \n",
    "    vo4, vo5, vo6 = sess.run([v4, v5, v6])\n",
    "    print('vo4\\n', vo4)\n",
    "    print('vo5\\n', vo5)\n",
    "    print('vo6\\n', vo6)"
   ]
  },
  {
   "cell_type": "code",
   "execution_count": 64,
   "metadata": {},
   "outputs": [
    {
     "name": "stdout",
     "output_type": "stream",
     "text": [
      "[2, 3]\n",
      "Tensor(\"Shape:0\", shape=(2,), dtype=int32)\n",
      "vo4\n",
      " [[1. 1. 1.]\n",
      " [1. 1. 1.]]\n",
      "vo5\n",
      " [[0. 0. 0.]\n",
      " [0. 0. 0.]]\n",
      "vo6\n",
      " [[1. 1. 1.]\n",
      " [1. 1. 1.]]\n"
     ]
    }
   ],
   "source": [
    "# get shape\n",
    "\n",
    "tf.reset_default_graph()\n",
    "\n",
    "v4 = tf.ones([2,3], name='v4')\n",
    "v5 = tf.zeros([2,3], name='v5')\n",
    "\n",
    "v6 = tf.add(v4, v5, name=\"add_ones\")\n",
    "\n",
    "print(v4.get_shape().as_list())  # return list with dimensions\n",
    "print(tf.shape(v4))              # return tensor\n",
    "\n",
    "with tf.Session() as sess:\n",
    "    sess.run(tf.global_variables_initializer())\n",
    "    \n",
    "    vo4, vo5, vo6 = sess.run([v4, v5, v6])\n",
    "    print('vo4\\n', vo4)\n",
    "    print('vo5\\n', vo5)\n",
    "    print('vo6\\n', vo6)"
   ]
  },
  {
   "cell_type": "code",
   "execution_count": 81,
   "metadata": {},
   "outputs": [
    {
     "name": "stdout",
     "output_type": "stream",
     "text": [
      "[1 2 3 4 5]\n",
      "[ 2  4  6  8 10]\n",
      "[ 3  6  9 12 15]\n",
      "[ 4  8 12 16 20]\n",
      "[ 5 10 15 20 25]\n"
     ]
    }
   ],
   "source": [
    "# placeholder and values feeding\n",
    "tf.reset_default_graph()\n",
    "\n",
    "v_input = tf.placeholder(tf.int32, [], name='v_input')\n",
    "\n",
    "v1 = tf.Variable([1,2,3,4,5], name='v1')\n",
    "\n",
    "v2 = tf.multiply(v1, v_input, name=\"v2\")\n",
    "\n",
    "with tf.Session() as sess:\n",
    "    sess.run(tf.global_variables_initializer())\n",
    "    for i in range(5):\n",
    "        v  = sess.run(v2, feed_dict={v_input: i+1})\n",
    "        print(v)"
   ]
  },
  {
   "cell_type": "code",
   "execution_count": 80,
   "metadata": {},
   "outputs": [
    {
     "name": "stdout",
     "output_type": "stream",
     "text": [
      "[1 2 3 4 5]\n",
      "[ 2  4  6  8 10]\n",
      "[ 6 12 18 24 30]\n",
      "[ 24  48  72  96 120]\n",
      "[120 240 360 480 600]\n"
     ]
    }
   ],
   "source": [
    "# placeholder and values feeding\n",
    "tf.reset_default_graph()\n",
    "\n",
    "v_input = tf.placeholder(tf.int32, [], name='v_input')\n",
    "\n",
    "v1 = tf.Variable([1,2,3,4,5], name='v1')\n",
    "\n",
    "v2 = tf.multiply(v1, v_input, name=\"v2\")\n",
    "\n",
    "assign_op = tf.assign(v1, v2)\n",
    "\n",
    "with tf.Session() as sess:\n",
    "    sess.run(tf.global_variables_initializer())\n",
    "    for i in range(5):\n",
    "        v, a  = sess.run([v2, assign_op], feed_dict={v_input: i+1})\n",
    "        print(v)"
   ]
  },
  {
   "cell_type": "code",
   "execution_count": null,
   "metadata": {},
   "outputs": [],
   "source": [
    "# placeholder and values feeding\n",
    "tf.reset_default_graph()\n",
    "\n",
    "v_input = tf.placeholder(tf.int32, [], name='v_input')\n",
    "\n",
    "v1 = tf.Variable([1,2,3,4,5], name='v1')\n",
    "\n",
    "v2 = tf.multiply(v1, v_input, name=\"v2\")\n",
    "\n",
    "assign_op = tf.assign(v1, v2)\n",
    "\n",
    "with tf.Session() as sess:\n",
    "    sess.run(tf.global_variables_initializer())\n",
    "    for i in range(5):\n",
    "        v, _  = sess.run([v2, assign_op], feed_dict={v_input: i+1})\n",
    "        print(v)"
   ]
  },
  {
   "cell_type": "code",
   "execution_count": 2,
   "metadata": {},
   "outputs": [
    {
     "name": "stdout",
     "output_type": "stream",
     "text": [
      "WARNING:tensorflow:From C:\\Users\\o.baiev\\AppData\\Local\\Continuum\\anaconda3\\lib\\site-packages\\tensorflow\\python\\framework\\op_def_library.py:263: colocate_with (from tensorflow.python.framework.ops) is deprecated and will be removed in a future version.\n",
      "Instructions for updating:\n",
      "Colocations handled automatically by placer.\n",
      "[ 2  4  6  8 10]\n",
      "[ 6 12 18 24 30]\n",
      "[ 21  42  63  84 105]\n",
      "[ 88 176 264 352 440]\n",
      "[ 445  890 1335 1780 2225]\n"
     ]
    }
   ],
   "source": [
    "# tensorboard\n",
    "\n",
    "tf.reset_default_graph()\n",
    "\n",
    "v_input = tf.placeholder(tf.int32, [], name='v_input')\n",
    "\n",
    "v1 = tf.Variable([1,2,3,4,5], name='v1')\n",
    "v2 = tf.Variable([1,2,3,4,5], name='v2')\n",
    "\n",
    "v3 = v_input * tf.add(v1, v2, name=\"add\")\n",
    "\n",
    "assign_op = tf.assign(v1, v3)\n",
    "\n",
    "tf.summary.scalar('v_input', v_input)\n",
    "\n",
    "tf.summary.histogram('v1', v1)\n",
    "tf.summary.histogram('v2', v2)\n",
    "tf.summary.histogram('v3', v3)\n",
    "\n",
    "merged_summaries = tf.summary.merge_all()\n",
    "\n",
    "with tf.Session() as sess:\n",
    "    writer = tf.summary.FileWriter('log', sess.graph)\n",
    "\n",
    "    sess.run(tf.global_variables_initializer())\n",
    "    \n",
    "    for i in range(5):\n",
    "        v, summs  = sess.run([assign_op, merged_summaries], feed_dict={v_input: i+1})\n",
    "        print(v)\n",
    "        writer.add_summary(summs, global_step=i)\n"
   ]
  },
  {
   "cell_type": "code",
   "execution_count": null,
   "metadata": {},
   "outputs": [],
   "source": []
  }
 ],
 "metadata": {
  "kernelspec": {
   "display_name": "Python 3",
   "language": "python",
   "name": "python3"
  },
  "language_info": {
   "codemirror_mode": {
    "name": "ipython",
    "version": 3
   },
   "file_extension": ".py",
   "mimetype": "text/x-python",
   "name": "python",
   "nbconvert_exporter": "python",
   "pygments_lexer": "ipython3",
   "version": "3.7.1"
  }
 },
 "nbformat": 4,
 "nbformat_minor": 2
}
