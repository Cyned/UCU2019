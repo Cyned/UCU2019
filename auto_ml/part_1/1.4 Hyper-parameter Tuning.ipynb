{
 "cells": [
  {
   "cell_type": "markdown",
   "metadata": {
    "slideshow": {
     "slide_type": "slide"
    }
   },
   "source": [
    "# Hyper-parameter Tuning"
   ]
  },
  {
   "cell_type": "markdown",
   "metadata": {
    "slideshow": {
     "slide_type": "slide"
    }
   },
   "source": [
    "# Definition\n",
    "\n",
    "Hyper-parameters control the fitting behavior and are not learned from data.\n",
    "\n",
    "```\n",
    "estimator.get_params()\n",
    "```\n",
    "\n",
    "If you think of your estimator as a black-box, hyper-parameters are knobs on the outside of the box.\n",
    "The goal of *hyper-parameter tuning* is to set the nobs to get optimal performance.\n",
    "\n",
    "<img src=\"img/hp-tuning-two-knobs.jpg\">\n",
    "<div style=\"text-align: right\">Source: Wikipedia</div>"
   ]
  },
  {
   "cell_type": "markdown",
   "metadata": {
    "slideshow": {
     "slide_type": "slide"
    }
   },
   "source": [
    "# Why hyper-parameters?\n",
    "\n",
    "HPs control the fitting behavior thus they \"guide\" the model search. You can think of this guidance as injecting *bias* into the model. \n",
    "\n",
    "<img src=\"img/eslii-mdl-search.png\" style=\"width:400px;\">\n",
    "<div style=\"text-align: right\">Source: T. Hastie et al. (2017) \"Elements of Statistical Learning (Ed. 2)\"</div>"
   ]
  },
  {
   "cell_type": "markdown",
   "metadata": {
    "slideshow": {
     "slide_type": "slide"
    }
   },
   "source": [
    "# Examples\n",
    "\n",
    "`sklearn.svm.SVC`\n",
    "  * C ... complexity, higher C means more variance can be captured.\n",
    "  * gamma ... width of the RBF kernerl, higher means more smoothness bias.\n",
    "  \n",
    "`sklearn.ensemble.RandomForestClassifier`\n",
    "  * max_depth ... the deeper the trees the more variance we can capture.\n",
    "  * n_features ... the more de-correlated trees, the more variance reduction (but the more trees needed).\n",
    "  \n",
    "`sklearn.linear_model.Ridge`\n",
    "  * alpha ... penalty on the L2 norm of the model coefficients, higher alpha more bias."
   ]
  },
  {
   "cell_type": "markdown",
   "metadata": {
    "slideshow": {
     "slide_type": "slide"
    }
   },
   "source": [
    "# Hyper-parameter Tuning\n",
    "\n",
    "*Grid Search* \n",
    "\n",
    "    Defacto standard method for tuning hyper-parameters in the past decades.\n",
    "    \n",
    "    \n",
    "*Random Search*\n",
    "\n",
    "    Explore the hyper-parameter space randomly by drawing samples. \n",
    "    Good for high-dimensional spaces (e.g. DNN).\n",
    "    \n",
    "    \n",
    "<img src=\"img/bergstra12-grid-vs-rand.png\" style=\"width:600px;\">\n",
    "<div style=\"text-align: right\">Source: J. Bergstra and Y. Bengio (2012) \"Random Search for Hyper-Parameter Optimization\"</div>"
   ]
  },
  {
   "cell_type": "markdown",
   "metadata": {
    "slideshow": {
     "slide_type": "slide"
    }
   },
   "source": [
    "# When is Grid Search not a good fit?\n",
    "<img src=\"img/hp-tuning-many-knobs.jpg\" >\n",
    "<div style=\"text-align: right\">Source: Wikipedia</div>"
   ]
  },
  {
   "cell_type": "markdown",
   "metadata": {
    "slideshow": {
     "slide_type": "slide"
    }
   },
   "source": [
    "# Hyper-parameter Tuning in Scikit-learn\n",
    "\n",
    "A search consists of:\n",
    "\n",
    "  * an estimator (regressor or classifier such as `sklearn.svm.SVC()`);\n",
    "  * a parameter space (e.g. `{'gamma': [0.01, 0.1, 1.0]}`);\n",
    "  * a method for searching or sampling candidates;\n",
    "  * a cross-validation scheme; and\n",
    "  * a score function (e.g. `sklearn.metrics.accuracy_score`).\n",
    "  \n",
    "## Classes\n",
    "\n",
    "  * `GridSearchCV`\n",
    "  * `RandomizedSearchCV`"
   ]
  },
  {
   "cell_type": "code",
   "execution_count": 1,
   "metadata": {
    "slideshow": {
     "slide_type": "slide"
    }
   },
   "outputs": [
    {
     "name": "stdout",
     "output_type": "stream",
     "text": [
      "Description\n",
      "----------\n",
      ".. _boston_dataset:\n",
      "\n",
      "Boston house prices dataset\n",
      "---------------------------\n",
      "\n",
      "**Data Set Characteristics:**  \n",
      "\n",
      "    :Number of Instances: 506 \n",
      "\n",
      "    :Number of Attributes: 13 numeric/categorical predictive. Median Value (attribute 14) is usually the target.\n",
      "\n",
      "    :Attribute Information (in order):\n",
      "        - CRIM     per capita crime rate by town\n",
      "        - ZN       proportion of residential land zoned for lots over 25,000 sq.ft.\n",
      "        - INDUS    proportion of non-retail business acres per town\n",
      "        - CHAS     Charles River dummy variable (= 1 if tract bounds river; 0 otherwise)\n",
      "        - NOX      nitric oxides concentration (parts per 10 million)\n",
      "        - RM       average number of rooms per dwelling\n",
      "        - AGE      proportion of owner-occupied units built prior to 1940\n",
      "        - DIS      weighted distances to five Boston employment centres\n",
      "        - RAD      index of accessibility to radial highways\n",
      "        - TAX      full-value property-tax rate per $10,000\n",
      "        - PTRATIO  pupil-teacher ratio by town\n",
      "        - B        1000(Bk - 0.63)^2 where Bk is the proportion of blacks by town\n",
      "        - LSTAT    % lower status of the population\n",
      "        - MEDV     Median value of owner-occupied homes in $1000's\n",
      "\n",
      "    :Missing Attribute Values: None\n",
      "\n",
      "    :Creator: Harrison, D. and Rubinfeld, D.L.\n",
      "\n",
      "This is a copy of UCI ML housing dataset.\n",
      "https://archive.ics.uci.edu/ml/machine-learning-databases/housing/\n",
      "\n",
      "\n",
      "This dataset was taken from the StatLib library which is maintained at Carnegie Mellon University.\n",
      "\n",
      "The Boston house-price data of Harrison, D. and Rubinfeld, D.L. 'Hedonic\n",
      "prices and the demand for clean air', J. Environ. Economics & Management,\n",
      "vol.5, 81-102, 1978.   Used in Belsley, Kuh & Welsch, 'Regression diagnostics\n",
      "...', Wiley, 1980.   N.B. Various transformations are used in the table on\n",
      "pages 244-261 of the latter.\n",
      "\n",
      "The Boston house-price data has been used in many machine learning papers that address regression\n",
      "problems.   \n",
      "     \n",
      ".. topic:: References\n",
      "\n",
      "   - Belsley, Kuh & Welsch, 'Regression diagnostics: Identifying Influential Data and Sources of Collinearity', Wiley, 1980. 244-261.\n",
      "   - Quinlan,R. (1993). Combining Instance-Based and Model-Based Learning. In Proceedings on the Tenth International Conference of Machine Learning, 236-243, University of Massachusetts, Amherst. Morgan Kaufmann.\n",
      "\n",
      "model score: 4.643\n"
     ]
    },
    {
     "name": "stderr",
     "output_type": "stream",
     "text": [
      "/home/cyned/anaconda3/envs/ucu/lib/python3.7/site-packages/sklearn/svm/base.py:196: FutureWarning: The default value of gamma will change from 'auto' to 'scale' in version 0.22 to account better for unscaled features. Set gamma explicitly to 'auto' or 'scale' to avoid this warning.\n",
      "  \"avoid this warning.\", FutureWarning)\n"
     ]
    }
   ],
   "source": [
    "from sklearn.datasets import load_boston\n",
    "from sklearn.svm import SVR\n",
    "from sklearn.preprocessing import MinMaxScaler\n",
    "from sklearn.model_selection import train_test_split\n",
    "from sklearn.model_selection import GridSearchCV, RandomizedSearchCV\n",
    "from sklearn.metrics import mean_absolute_error\n",
    "\n",
    "data = load_boston()\n",
    "print(\"Description\\n{}\\n{}\".format('-' * 10, data.DESCR))\n",
    "X = data.data\n",
    "y = data.target\n",
    "X = MinMaxScaler().fit_transform(X)\n",
    "X_train, X_test, y_train, y_test = train_test_split(X, y, train_size=0.75, test_size=.25, random_state=0)\n",
    "\n",
    "est = SVR()\n",
    "\n",
    "est.fit(X_train, y_train)\n",
    "\n",
    "print(\"model score: %.3f\" % mean_absolute_error(y_test, est.predict(X_test)))"
   ]
  },
  {
   "cell_type": "code",
   "execution_count": 2,
   "metadata": {
    "slideshow": {
     "slide_type": "slide"
    }
   },
   "outputs": [
    {
     "name": "stdout",
     "output_type": "stream",
     "text": [
      "Fitting 3 folds for each of 12 candidates, totalling 36 fits\n"
     ]
    },
    {
     "name": "stderr",
     "output_type": "stream",
     "text": [
      "[Parallel(n_jobs=1)]: Using backend SequentialBackend with 1 concurrent workers.\n"
     ]
    },
    {
     "name": "stdout",
     "output_type": "stream",
     "text": [
      "best params: {'C': 100, 'gamma': 0.1, 'kernel': 'rbf'}\n",
      "model score: 3.047\n"
     ]
    },
    {
     "name": "stderr",
     "output_type": "stream",
     "text": [
      "[Parallel(n_jobs=1)]: Done  36 out of  36 | elapsed:    0.3s finished\n",
      "/home/cyned/anaconda3/envs/ucu/lib/python3.7/site-packages/sklearn/model_selection/_search.py:841: DeprecationWarning: The default of the `iid` parameter will change from True to False in version 0.22 and will be removed in 0.24. This will change numeric results when test-set sizes are unequal.\n",
      "  DeprecationWarning)\n"
     ]
    }
   ],
   "source": [
    "est = SVR()\n",
    "\n",
    "param_grid = [\n",
    "  {'C': [0.1, 1, 10, 100], 'kernel': ['linear']},\n",
    "  {'C': [0.1, 1, 10, 100], 'gamma': [0.1, 0.01], 'kernel': ['rbf']},\n",
    " ]\n",
    "\n",
    "gs = GridSearchCV(est, param_grid, cv=3, scoring='neg_mean_absolute_error', verbose=1)\n",
    "gs.fit(X_train, y_train)\n",
    "\n",
    "print(\"best params: {}\".format(gs.best_params_))\n",
    "print(\"model score: %.3f\" % mean_absolute_error(y_test, gs.predict(X_test)))"
   ]
  },
  {
   "cell_type": "code",
   "execution_count": 3,
   "metadata": {},
   "outputs": [
    {
     "name": "stdout",
     "output_type": "stream",
     "text": [
      "Fitting 3 folds for each of 12 candidates, totalling 36 fits\n"
     ]
    },
    {
     "name": "stderr",
     "output_type": "stream",
     "text": [
      "[Parallel(n_jobs=1)]: Using backend SequentialBackend with 1 concurrent workers.\n"
     ]
    },
    {
     "name": "stdout",
     "output_type": "stream",
     "text": [
      "best params: {'C': 49.88720138545616, 'gamma': 0.18083692319941533, 'kernel': 'rbf'}\n",
      "model score: 2.946\n"
     ]
    },
    {
     "name": "stderr",
     "output_type": "stream",
     "text": [
      "[Parallel(n_jobs=1)]: Done  36 out of  36 | elapsed:    0.6s finished\n"
     ]
    }
   ],
   "source": [
    "import scipy\n",
    "\n",
    "est = SVR()\n",
    "\n",
    "param_grid = {\n",
    "    'C': scipy.stats.expon(scale=100), \n",
    "    'gamma': scipy.stats.expon(scale=.1), \n",
    "    'kernel': ['rbf', 'linear']\n",
    "}\n",
    "\n",
    "gs = RandomizedSearchCV(est, param_grid, cv=3, scoring='neg_mean_absolute_error', \n",
    "                        n_iter=12, verbose=1, random_state=0)\n",
    "gs.fit(X_train, y_train)\n",
    "\n",
    "print(\"best params: {}\".format(gs.best_params_))\n",
    "print(\"model score: %.3f\" % mean_absolute_error(y_test, gs.predict(X_test)))"
   ]
  },
  {
   "cell_type": "code",
   "execution_count": 4,
   "metadata": {},
   "outputs": [
    {
     "name": "stdout",
     "output_type": "stream",
     "text": [
      "Populating the interactive namespace from numpy and matplotlib\n"
     ]
    },
    {
     "data": {
      "image/png": "[encoded data removed]",
      "text/plain": [
       "<Figure size 432x288 with 1 Axes>"
      ]
     },
     "metadata": {
      "needs_background": "light"
     },
     "output_type": "display_data"
    }
   ],
   "source": [
    "%pylab inline\n",
    "\n",
    "import scipy\n",
    "dist = scipy.stats.expon(scale=100)\n",
    "_ = plt.hist(dist.rvs(1000), 50)"
   ]
  },
  {
   "cell_type": "markdown",
   "metadata": {
    "slideshow": {
     "slide_type": "slide"
    }
   },
   "source": [
    "# Tuning Shortcuts\n",
    "\n",
    "### Fit-once-evaluate-many\n",
    "\n",
    "Some models allow us to evaluate many hyper-parameter settings in a single fit. \n",
    "Examples: n_estimators in `RandomForest` and `GradientBoosting`; \"regularization path\" in linear models.\n",
    "    \n",
    "### Warm-starts\n",
    "\n",
    "Some models converge faster when warm started from a previous solution (with different HP settings). See [warm_start](https://scikit-learn.org/stable/glossary.html#term-warm-start) in sklearn.\n",
    "    \n",
    "### Heuristics\n",
    "\n",
    "For some hyper-parameters, good values or ranges can be compute via heuristics.\n",
    "Example: `gamma='auto'` in RBF kernel. \n",
    "    \n",
    "### Sub-sampling\n",
    "\n",
    "For some hyper-parameters, we can probe for good values on a subset of the data. Be cautious though!\n",
    "Example: `learning_rate` in SGD."
   ]
  }
 ],
 "metadata": {
  "celltoolbar": "Slideshow",
  "kernelspec": {
   "display_name": "Python 3",
   "language": "python",
   "name": "python3"
  },
  "language_info": {
   "codemirror_mode": {
    "name": "ipython",
    "version": 3
   },
   "file_extension": ".py",
   "mimetype": "text/x-python",
   "name": "python",
   "nbconvert_exporter": "python",
   "pygments_lexer": "ipython3",
   "version": "3.7.3"
  }
 },
 "nbformat": 4,
 "nbformat_minor": 2
}
