{
 "cells": [
  {
   "cell_type": "markdown",
   "metadata": {},
   "source": [
    "# Load data"
   ]
  },
  {
   "cell_type": "code",
   "execution_count": 1,
   "metadata": {},
   "outputs": [],
   "source": [
    "import pandas as pd\n",
    "\n",
    "from os.path import join as path_join\n",
    "\n",
    "from config import DATA_DIR\n",
    "\n",
    "import warnings\n",
    "warnings.filterwarnings('ignore')"
   ]
  },
  {
   "cell_type": "code",
   "execution_count": 2,
   "metadata": {},
   "outputs": [
    {
     "name": "stdout",
     "output_type": "stream",
     "text": [
      "(2000, 2)\n",
      "--------------------\n",
      "Target distribution:\n",
      "1    0.5\n",
      "0    0.5\n",
      "Name: target, dtype: float64\n"
     ]
    },
    {
     "data": {
      "text/html": [
       "<div>\n",
       "<style scoped>\n",
       "    .dataframe tbody tr th:only-of-type {\n",
       "        vertical-align: middle;\n",
       "    }\n",
       "\n",
       "    .dataframe tbody tr th {\n",
       "        vertical-align: top;\n",
       "    }\n",
       "\n",
       "    .dataframe thead th {\n",
       "        text-align: right;\n",
       "    }\n",
       "</style>\n",
       "<table border=\"1\" class=\"dataframe\">\n",
       "  <thead>\n",
       "    <tr style=\"text-align: right;\">\n",
       "      <th></th>\n",
       "      <th>text</th>\n",
       "      <th>target</th>\n",
       "    </tr>\n",
       "  </thead>\n",
       "  <tbody>\n",
       "    <tr>\n",
       "      <th>205</th>\n",
       "      <td>the second serial - killer thriller of the mon...</td>\n",
       "      <td>0</td>\n",
       "    </tr>\n",
       "    <tr>\n",
       "      <th>564</th>\n",
       "      <td>my giant begins with a monologue that ' s more...</td>\n",
       "      <td>0</td>\n",
       "    </tr>\n",
       "    <tr>\n",
       "      <th>750</th>\n",
       "      <td>disney ' s \" air bud \" tells a boy - and - his...</td>\n",
       "      <td>0</td>\n",
       "    </tr>\n",
       "    <tr>\n",
       "      <th>1013</th>\n",
       "      <td>synopsis : in this movie , steven spielberg , ...</td>\n",
       "      <td>1</td>\n",
       "    </tr>\n",
       "    <tr>\n",
       "      <th>1897</th>\n",
       "      <td>i must admit that i was a tad skeptical of \" g...</td>\n",
       "      <td>1</td>\n",
       "    </tr>\n",
       "  </tbody>\n",
       "</table>\n",
       "</div>"
      ],
      "text/plain": [
       "                                                   text  target\n",
       "205   the second serial - killer thriller of the mon...       0\n",
       "564   my giant begins with a monologue that ' s more...       0\n",
       "750   disney ' s \" air bud \" tells a boy - and - his...       0\n",
       "1013  synopsis : in this movie , steven spielberg , ...       1\n",
       "1897  i must admit that i was a tad skeptical of \" g...       1"
      ]
     },
     "execution_count": 2,
     "metadata": {},
     "output_type": "execute_result"
    }
   ],
   "source": [
    "data = pd.read_parquet(path_join(DATA_DIR, 'movie_reviews.parquet'))\n",
    "print(data.shape)\n",
    "print('-' * 20)\n",
    "print(f'Target distribution:\\n{data.target.value_counts(normalize=True)}')\n",
    "data.sample(5, random_state=32421)"
   ]
  },
  {
   "cell_type": "markdown",
   "metadata": {},
   "source": [
    "# Imports"
   ]
  },
  {
   "cell_type": "code",
   "execution_count": 3,
   "metadata": {},
   "outputs": [],
   "source": [
    "from metrics import my_metric\n",
    "\n",
    "from timeit_ import timeit_context"
   ]
  },
  {
   "cell_type": "code",
   "execution_count": 4,
   "metadata": {},
   "outputs": [],
   "source": [
    "def model_name(model):\n",
    "    return type(model).__name__"
   ]
  },
  {
   "cell_type": "markdown",
   "metadata": {},
   "source": [
    "# Experiments"
   ]
  },
  {
   "cell_type": "code",
   "execution_count": 5,
   "metadata": {},
   "outputs": [],
   "source": [
    "import lightgbm\n",
    "\n",
    "from sklearn.feature_extraction.text import CountVectorizer, TfidfVectorizer\n",
    "from sklearn.linear_model import LogisticRegression, SGDClassifier\n",
    "from sklearn.naive_bayes import MultinomialNB\n",
    "from sklearn.svm import LinearSVC\n",
    "from sklearn.pipeline import Pipeline, FeatureUnion\n",
    "from sklearn.decomposition import PCA\n",
    "from sklearn.model_selection import train_test_split"
   ]
  },
  {
   "cell_type": "code",
   "execution_count": 6,
   "metadata": {},
   "outputs": [],
   "source": [
    "%load_ext autoreload\n",
    "%autoreload 2\n",
    "from models.linear_regression import LinearModel\n",
    "from models.lgbmachine import LGBMachine\n",
    "from models import get_lgb, get_linear"
   ]
  },
  {
   "cell_type": "markdown",
   "metadata": {},
   "source": [
    "## CountVectorizer\n",
    "##### Some  experiments with CountVectorizer"
   ]
  },
  {
   "cell_type": "code",
   "execution_count": 9,
   "metadata": {},
   "outputs": [],
   "source": [
    "vectorizer = CountVectorizer()"
   ]
  },
  {
   "cell_type": "code",
   "execution_count": 9,
   "metadata": {},
   "outputs": [
    {
     "name": "stdout",
     "output_type": "stream",
     "text": [
      "MultinomialNB:  81.85%\n",
      "Time execution:\t4.91sec\n",
      "------------------------------\n",
      "LogisticRegression:  84.75%\n",
      "Time execution:\t5.94sec\n",
      "------------------------------\n",
      "LinearSVC:  84.00%\n",
      "Time execution:\t8.50sec\n",
      "------------------------------\n",
      "SGDClassifier:  79.60%\n",
      "Time execution:\t5.02sec\n",
      "------------------------------\n",
      "CPU times: user 28.5 s, sys: 112 ms, total: 28.6 s\n",
      "Wall time: 24.4 s\n"
     ]
    }
   ],
   "source": [
    "%%time\n",
    "\n",
    "for classifier in [MultinomialNB(), LogisticRegression(random_state=123142), LinearSVC(random_state=124), SGDClassifier(random_state=134)]:\n",
    "    model = Pipeline([\n",
    "        ('vectorizer', vectorizer),\n",
    "        ('classifier', classifier),\n",
    "    ])\n",
    "    with timeit_context('Time execution'):\n",
    "        print(f'{model_name(classifier)}:  {my_metric(classifier=model)*100:.2f}%')\n",
    "    print('-' * 30)"
   ]
  },
  {
   "cell_type": "markdown",
   "metadata": {},
   "source": [
    "### LogReg + hyperparameters optimization"
   ]
  },
  {
   "cell_type": "code",
   "execution_count": 10,
   "metadata": {},
   "outputs": [
    {
     "name": "stdout",
     "output_type": "stream",
     "text": [
      "100%|██████████| 10/10 [00:40<00:00,  4.09s/it, best loss: -0.842]\n",
      "Get best linear model:\t42.14sec\n",
      "LinearModel 81.90%\n",
      "Time execution:\t6.18sec\n"
     ]
    }
   ],
   "source": [
    "with timeit_context('Get best linear model'):\n",
    "    classifier = get_linear(x_train=vectorizer.fit_transform(data['text']).toarray(), y_train=data['target'].values)\n",
    "    \n",
    "model = Pipeline([\n",
    "    ('vectorizer', vectorizer),\n",
    "    ('classifier', classifier),\n",
    "])\n",
    "with timeit_context('Time execution'):\n",
    "    print(f'{model_name(classifier)} {my_metric(classifier=model)*100:.2f}%')"
   ]
  },
  {
   "cell_type": "markdown",
   "metadata": {},
   "source": [
    "### Vectorizer tuning\n",
    "Metrics:\n",
    "- 84.65%\n",
    "- 85.00%\n",
    "- 83.90%\n",
    "- 84.15%\n",
    "- 83.95%\n",
    "- 83.75%\n",
    "- 79.70%\n",
    "- 85.00%"
   ]
  },
  {
   "cell_type": "code",
   "execution_count": 8,
   "metadata": {},
   "outputs": [],
   "source": [
    "%load_ext autoreload\n",
    "%autoreload 2\n",
    "    \n",
    "from preprocessing import Tokenizer"
   ]
  },
  {
   "cell_type": "code",
   "execution_count": 77,
   "metadata": {},
   "outputs": [
    {
     "name": "stdout",
     "output_type": "stream",
     "text": [
      "LogisticRegression:  85.00%\n",
      "Time execution:\t1min 53.54sec\n"
     ]
    }
   ],
   "source": [
    "word_vectorizer = CountVectorizer(\n",
    "    lowercase     = True, \n",
    "    tokenizer     = lambda text: Tokenizer(stem='stem', splitter=None, remove_spec=True).tokenize(text), \n",
    "    stop_words    = stopwords,\n",
    "    ngram_range   = (1, 2),\n",
    "    analyzer      = 'word',\n",
    "    max_df        = 1.0,\n",
    "    min_df        = 1,\n",
    "    max_features  = 10000,\n",
    ")\n",
    "\n",
    "char_vectorizer = CountVectorizer(\n",
    "    lowercase     = True, \n",
    "    tokenizer     = None, \n",
    "    ngram_range   = (3, 5),\n",
    "    analyzer      = 'char',\n",
    "    max_df        = 0.95,\n",
    "    min_df        = 10,\n",
    "    max_features  = 1000,\n",
    ")\n",
    "\n",
    "classifier = LogisticRegression(random_state=123142)\n",
    "model = Pipeline([\n",
    "#     ('vectorizer', FeatureUnion([('word', word_vectorizer), ('char', char_vectorizer)])),\n",
    "#     ('vectorizer', char_vectorizer),\n",
    "    ('vectorizer', word_vectorizer),\n",
    "    ('classifier', classifier),\n",
    "])\n",
    "with timeit_context('Time execution'):\n",
    "    print(f'{model_name(classifier)}:  {my_metric(classifier=model)*100:.2f}%')"
   ]
  },
  {
   "cell_type": "code",
   "execution_count": 79,
   "metadata": {},
   "outputs": [
    {
     "name": "stdout",
     "output_type": "stream",
     "text": [
      "100%|██████████| 10/10 [00:11<00:00,  1.15s/it, best loss: -0.827]\n",
      "Get best linear model:\t33.20sec\n",
      "LinearModel 82.20%\n",
      "Time execution:\t1min 50.20sec\n"
     ]
    }
   ],
   "source": [
    "with timeit_context('Get best linear model'):\n",
    "    classifier = get_linear(x_train=word_vectorizer.fit_transform(data['text']).toarray(), y_train=data['target'].values)\n",
    "    \n",
    "model = Pipeline([\n",
    "    ('vectorizer', word_vectorizer),\n",
    "    ('classifier', classifier),\n",
    "])\n",
    "with timeit_context('Time execution'):\n",
    "    print(f'{model_name(classifier)} {my_metric(classifier=model)*100:.2f}%')"
   ]
  },
  {
   "cell_type": "markdown",
   "metadata": {},
   "source": [
    "# TF/IDF\n",
    "##### Some experiments with TFIDF vectorizer"
   ]
  },
  {
   "cell_type": "code",
   "execution_count": 9,
   "metadata": {},
   "outputs": [],
   "source": [
    "vectorizer = TfidfVectorizer()"
   ]
  },
  {
   "cell_type": "code",
   "execution_count": 14,
   "metadata": {},
   "outputs": [
    {
     "name": "stdout",
     "output_type": "stream",
     "text": [
      "MultinomialNB:  80.85%\n",
      "Time execution:\t4.66sec\n",
      "------------------------------\n",
      "LogisticRegression:  82.00%\n",
      "Time execution:\t5.06sec\n",
      "------------------------------\n",
      "LinearSVC:  85.70%\n",
      "Time execution:\t5.28sec\n",
      "------------------------------\n",
      "SGDClassifier:  84.70%\n",
      "Time execution:\t5.03sec\n",
      "------------------------------\n",
      "CPU times: user 22.1 s, sys: 68.4 ms, total: 22.2 s\n",
      "Wall time: 20 s\n"
     ]
    }
   ],
   "source": [
    "%%time\n",
    "\n",
    "for classifier in [MultinomialNB(), LogisticRegression(random_state=123142), LinearSVC(random_state=124), SGDClassifier(random_state=134)]:\n",
    "    model = Pipeline([\n",
    "        ('vectorizer', vectorizer),\n",
    "        ('classifier', classifier),\n",
    "    ])\n",
    "    with timeit_context('Time execution'):\n",
    "        print(f'{model_name(classifier)}:  {my_metric(classifier=model)*100:.2f}%')\n",
    "    print('-' * 30)"
   ]
  },
  {
   "cell_type": "markdown",
   "metadata": {},
   "source": [
    "### LogReg + hyperparameters optimization"
   ]
  },
  {
   "cell_type": "code",
   "execution_count": 15,
   "metadata": {},
   "outputs": [
    {
     "name": "stdout",
     "output_type": "stream",
     "text": [
      "100%|██████████| 10/10 [00:24<00:00,  2.49s/it, best loss: -0.852]\n",
      "Get best linear model:\t25.79sec\n",
      "LinearModel 85.65%\n",
      "Time execution:\t5.47sec\n"
     ]
    }
   ],
   "source": [
    "with timeit_context('Get best linear model'):\n",
    "    classifier = get_linear(x_train=vectorizer.fit_transform(data['text']).toarray(), y_train=data['target'].values)\n",
    "    \n",
    "model = Pipeline([\n",
    "    ('vectorizer', vectorizer),\n",
    "    ('classifier', classifier),\n",
    "])\n",
    "with timeit_context('Time execution'):\n",
    "    print(f'{model_name(classifier)} {my_metric(classifier=model)*100:.2f}%') "
   ]
  },
  {
   "cell_type": "markdown",
   "metadata": {},
   "source": [
    "### Vectorizer tuning"
   ]
  },
  {
   "cell_type": "code",
   "execution_count": 80,
   "metadata": {},
   "outputs": [],
   "source": [
    "from preprocessing import Tokenizer"
   ]
  },
  {
   "cell_type": "code",
   "execution_count": 16,
   "metadata": {},
   "outputs": [],
   "source": [
    "vectorizer = TfidfVectorizer(\n",
    "    lowercase    = True,\n",
    "    tokenizer    = lambda text: Tokenizer(stem='stem', splitter=None, remove_spec=True).tokenize(text), \n",
    "    analyzer     = 'word', \n",
    "    ngram_range  = (1, 2),\n",
    "    max_df       = 0.8,\n",
    "    min_df       = 10, \n",
    "    max_features = 100000,\n",
    "    norm         = 'l2',\n",
    "    use_idf      = True,\n",
    "    smooth_idf   = True,\n",
    ")\n",
    "\n",
    "classifier = LogisticRegression(random_state=123142)\n",
    "model = Pipeline([\n",
    "    ('vectorizer', vectorizer),\n",
    "    ('classifier', classifier),\n",
    "])\n",
    "with timeit_context('Time execution'):\n",
    "    print(f'{model_name(classifier)}:  {my_metric(classifier=model)*100:.2f}%')"
   ]
  },
  {
   "cell_type": "code",
   "execution_count": 83,
   "metadata": {},
   "outputs": [
    {
     "name": "stdout",
     "output_type": "stream",
     "text": [
      "100%|██████████| 10/10 [00:06<00:00,  1.57it/s, best loss: -0.8470000000000001]\n",
      "Get best linear model:\t28.71sec\n",
      "LinearModel 86.30%\n",
      "Time execution:\t2min 2.28sec\n"
     ]
    }
   ],
   "source": [
    "with timeit_context('Get best linear model'):\n",
    "    classifier = get_linear(x_train=vectorizer.fit_transform(data['text']).toarray(), y_train=data['target'].values)\n",
    "    \n",
    "model = Pipeline([\n",
    "    ('vectorizer', vectorizer),\n",
    "    ('classifier', classifier),\n",
    "])\n",
    "with timeit_context('Time execution'):\n",
    "    print(f'{model_name(classifier)} {my_metric(classifier=model)*100:.2f}%')"
   ]
  },
  {
   "cell_type": "markdown",
   "metadata": {},
   "source": [
    "#### Is it usefull to use blending of baselines model in this case?"
   ]
  },
  {
   "cell_type": "code",
   "execution_count": 49,
   "metadata": {},
   "outputs": [],
   "source": [
    "from sklearn.metrics import confusion_matrix\n",
    "import matplotlib.pyplot as plt\n",
    "from sklearn.metrics import confusion_matrix\n",
    "import seaborn as sns"
   ]
  },
  {
   "cell_type": "code",
   "execution_count": 84,
   "metadata": {},
   "outputs": [
    {
     "data": {
      "image/png": "[encoded data removed]",
      "text/plain": [
       "<Figure size 1800x360 with 8 Axes>"
      ]
     },
     "metadata": {
      "needs_background": "light"
     },
     "output_type": "display_data"
    }
   ],
   "source": [
    "%%time\n",
    "\n",
    "x_train, x_test, y_train, y_test = train_test_split(data['text'], data['target'], test_size=0.25, random_state=314)\n",
    "\n",
    "f,(ax1, ax2, ax3, ax4) = plt.subplots(1, 4, sharey=True, figsize=(25, 5))\n",
    "\n",
    "for classifier, ax in zip([MultinomialNB(), LogisticRegression(random_state=123142), LinearSVC(random_state=124), SGDClassifier(random_state=134)],\n",
    "                     [ax1, ax2, ax3, ax4]):\n",
    "    model = Pipeline([\n",
    "        ('vectorizer', vectorizer),\n",
    "        ('classifier', classifier),\n",
    "    ])\n",
    "    model.fit(x_train, y_train)\n",
    "    sns.heatmap(confusion_matrix(y_true=y_test, y_pred=model.predict(x_test)), \n",
    "                annot=True, annot_kws={\"size\": 10}, fmt=\"d\", ax=ax).set_title(model_name(classifier))\n"
   ]
  },
  {
   "cell_type": "markdown",
   "metadata": {},
   "source": [
    "##### It seems blending should not work, but whatever less try\n",
    "- 85.65% (LogReg)\n",
    "- 86.35% (LGB)\n",
    "- 86.40%"
   ]
  },
  {
   "cell_type": "code",
   "execution_count": 147,
   "metadata": {},
   "outputs": [
    {
     "name": "stdout",
     "output_type": "stream",
     "text": [
      "The autoreload extension is already loaded. To reload it, use:\n",
      "  %reload_ext autoreload\n"
     ]
    }
   ],
   "source": [
    "%load_ext autoreload\n",
    "%autoreload 2\n",
    "from models import BlendingFeatures"
   ]
  },
  {
   "cell_type": "code",
   "execution_count": 152,
   "metadata": {},
   "outputs": [
    {
     "name": "stderr",
     "output_type": "stream",
     "text": [
      "/home/cyned/anaconda3/envs/ucu/lib/python3.7/site-packages/sklearn/svm/base.py:931: ConvergenceWarning: Liblinear failed to converge, increase the number of iterations.\n",
      "  \"the number of iterations.\", ConvergenceWarning)\n",
      "WARNING:root:'LinearSVC' object has no attribute 'predict_proba'\n",
      "WARNING:root:probability estimates are not available for loss='hinge'\n",
      "WARNING:root:'LinearSVC' object has no attribute 'predict_proba'\n",
      "WARNING:root:probability estimates are not available for loss='hinge'\n",
      "WARNING:root:'LinearSVC' object has no attribute 'predict_proba'\n",
      "WARNING:root:probability estimates are not available for loss='hinge'\n",
      "WARNING:root:'LinearSVC' object has no attribute 'predict_proba'\n",
      "WARNING:root:probability estimates are not available for loss='hinge'\n",
      "WARNING:root:'LinearSVC' object has no attribute 'predict_proba'\n",
      "WARNING:root:probability estimates are not available for loss='hinge'\n",
      "WARNING:root:'LinearSVC' object has no attribute 'predict_proba'\n",
      "WARNING:root:probability estimates are not available for loss='hinge'\n",
      "/home/cyned/anaconda3/envs/ucu/lib/python3.7/site-packages/sklearn/svm/base.py:931: ConvergenceWarning: Liblinear failed to converge, increase the number of iterations.\n",
      "  \"the number of iterations.\", ConvergenceWarning)\n",
      "WARNING:root:'LinearSVC' object has no attribute 'predict_proba'\n",
      "WARNING:root:probability estimates are not available for loss='hinge'\n",
      "WARNING:root:'LinearSVC' object has no attribute 'predict_proba'\n",
      "WARNING:root:probability estimates are not available for loss='hinge'\n",
      "/home/cyned/anaconda3/envs/ucu/lib/python3.7/site-packages/sklearn/svm/base.py:931: ConvergenceWarning: Liblinear failed to converge, increase the number of iterations.\n",
      "  \"the number of iterations.\", ConvergenceWarning)\n",
      "WARNING:root:'LinearSVC' object has no attribute 'predict_proba'\n",
      "WARNING:root:probability estimates are not available for loss='hinge'\n",
      "WARNING:root:'LinearSVC' object has no attribute 'predict_proba'\n",
      "WARNING:root:probability estimates are not available for loss='hinge'\n"
     ]
    },
    {
     "name": "stdout",
     "output_type": "stream",
     "text": [
      "LGBMClassifier:  84.45%\n",
      "Time execution:\t1min 54.45sec\n",
      "------------------------------\n"
     ]
    }
   ],
   "source": [
    "vectorizer = TfidfVectorizer(\n",
    "    lowercase    = True,\n",
    "    tokenizer    = lambda text: Tokenizer(stem='stem', splitter=None, remove_spec=True).tokenize(text), \n",
    "    analyzer     = 'word', \n",
    "    ngram_range  = (1, 3),\n",
    "    max_df       = 0.8,\n",
    "    min_df       = 2, \n",
    "    max_features = 100000,\n",
    ")\n",
    "\n",
    "blending_features = BlendingFeatures([\n",
    "    MultinomialNB(), LogisticRegression(random_state=123142), LinearSVC(random_state=124), SGDClassifier(random_state=134, loss='hinge'),\n",
    "])\n",
    "        \n",
    "final_classifier = lightgbm.LGBMClassifier(random_state=123142, n_jobs=-1)\n",
    "        \n",
    "model = Pipeline([\n",
    "    ('vectorizer', vectorizer),\n",
    "    ('classifier', blending_features),\n",
    "    ('predictor', final_classifier)\n",
    "])\n",
    "with timeit_context('Time execution'):\n",
    "    print(f'{model_name(final_classifier)}:  {my_metric(classifier=model)*100:.2f}%')\n",
    "print('-' * 30)"
   ]
  },
  {
   "cell_type": "markdown",
   "metadata": {},
   "source": [
    "## RuleBased model\n",
    "- 56.00%\n",
    "- 65.50%\n",
    "- 70.10%\n",
    "- 68.35%"
   ]
  },
  {
   "cell_type": "code",
   "execution_count": 158,
   "metadata": {},
   "outputs": [
    {
     "name": "stdout",
     "output_type": "stream",
     "text": [
      "The autoreload extension is already loaded. To reload it, use:\n",
      "  %reload_ext autoreload\n"
     ]
    }
   ],
   "source": [
    "%load_ext autoreload\n",
    "%autoreload 2\n",
    "from models.rule_based import RuleBased"
   ]
  },
  {
   "cell_type": "code",
   "execution_count": 159,
   "metadata": {},
   "outputs": [
    {
     "name": "stdout",
     "output_type": "stream",
     "text": [
      "RuleBased 68.35%\n",
      "Time execution:\t2min 15.81sec\n"
     ]
    }
   ],
   "source": [
    "classifier = RuleBased()\n",
    "\n",
    "with timeit_context('Time execution'):\n",
    "    print(f'{model_name(classifier)} {my_metric(classifier=classifier)*100:.2f}%')"
   ]
  },
  {
   "cell_type": "code",
   "execution_count": 181,
   "metadata": {},
   "outputs": [
    {
     "name": "stdout",
     "output_type": "stream",
     "text": [
      "CPU times: user 31.4 s, sys: 80 ms, total: 31.5 s\n",
      "Wall time: 31.6 s\n"
     ]
    },
    {
     "data": {
      "image/png": "[encoded data removed]",
      "text/plain": [
       "<Figure size 432x288 with 2 Axes>"
      ]
     },
     "metadata": {
      "needs_background": "light"
     },
     "output_type": "display_data"
    }
   ],
   "source": [
    "%%time\n",
    "\n",
    "x_train, x_test, y_train, y_test = train_test_split(data['text'], data['target'], test_size=0.25, random_state=314)\n",
    "\n",
    "model = RuleBased()\n",
    "model.fit(x_train, y_train)\n",
    "sns.heatmap(confusion_matrix(y_true=y_test, y_pred=model.predict(x_test)), \n",
    "            annot=True, annot_kws={\"size\": 10}, fmt=\"d\")"
   ]
  },
  {
   "cell_type": "markdown",
   "metadata": {},
   "source": [
    "# RuleBased + Previous Blending"
   ]
  },
  {
   "cell_type": "code",
   "execution_count": 164,
   "metadata": {},
   "outputs": [
    {
     "name": "stderr",
     "output_type": "stream",
     "text": [
      "WARNING:root:'LinearSVC' object has no attribute 'predict_proba'\n",
      "WARNING:root:probability estimates are not available for loss='hinge'\n",
      "WARNING:root:'LinearSVC' object has no attribute 'predict_proba'\n",
      "WARNING:root:probability estimates are not available for loss='hinge'\n",
      "WARNING:root:'LinearSVC' object has no attribute 'predict_proba'\n",
      "WARNING:root:probability estimates are not available for loss='hinge'\n",
      "WARNING:root:'LinearSVC' object has no attribute 'predict_proba'\n",
      "WARNING:root:probability estimates are not available for loss='hinge'\n",
      "WARNING:root:'LinearSVC' object has no attribute 'predict_proba'\n",
      "WARNING:root:probability estimates are not available for loss='hinge'\n",
      "WARNING:root:'LinearSVC' object has no attribute 'predict_proba'\n",
      "WARNING:root:probability estimates are not available for loss='hinge'\n",
      "WARNING:root:'LinearSVC' object has no attribute 'predict_proba'\n",
      "WARNING:root:probability estimates are not available for loss='hinge'\n",
      "WARNING:root:'LinearSVC' object has no attribute 'predict_proba'\n",
      "WARNING:root:probability estimates are not available for loss='hinge'\n",
      "WARNING:root:'LinearSVC' object has no attribute 'predict_proba'\n",
      "WARNING:root:probability estimates are not available for loss='hinge'\n",
      "WARNING:root:'LinearSVC' object has no attribute 'predict_proba'\n",
      "WARNING:root:probability estimates are not available for loss='hinge'\n"
     ]
    },
    {
     "name": "stdout",
     "output_type": "stream",
     "text": [
      "LGBMClassifier:  86.40%\n",
      "Time execution:\t6min 12.24sec\n",
      "------------------------------\n"
     ]
    }
   ],
   "source": [
    "vectorizer = TfidfVectorizer(\n",
    "    lowercase    = True,\n",
    "    tokenizer    = lambda text: Tokenizer(stem='stem', splitter=None, remove_spec=True).tokenize(text), \n",
    "    analyzer     = 'word', \n",
    "    ngram_range  = (1, 3),\n",
    "    max_df       = 0.8,\n",
    "    min_df       = 2, \n",
    "    max_features = 100000,\n",
    ")\n",
    "\n",
    "blending_features = BlendingFeatures([\n",
    "    MultinomialNB(), LogisticRegression(random_state=123142), LinearSVC(random_state=124), SGDClassifier(random_state=134, loss='hinge'),\n",
    "])\n",
    "        \n",
    "final_classifier = lightgbm.LGBMClassifier(random_state=123142, n_jobs=-1)\n",
    "        \n",
    "model = Pipeline([\n",
    "    ('blending_features', FeatureUnion([('ml_pipeline', Pipeline([('vectorizer', vectorizer), ('classifier', blending_features)])),\n",
    "                  ('rule_based', RuleBased()),  \n",
    "                 ])\n",
    "    ),\n",
    "    ('predictor', final_classifier)\n",
    "])\n",
    "('rule_based', RuleBased())\n",
    "with timeit_context('Time execution'):\n",
    "    print(f'{model_name(final_classifier)}:  {my_metric(classifier=model)*100:.2f}%')\n",
    "print('-' * 30)"
   ]
  },
  {
   "cell_type": "markdown",
   "metadata": {},
   "source": [
    "# Let's take a look at the embeddings\n",
    "- 80.30%\n",
    "- 81.30%\n",
    "- 70.40%\n",
    "- 80.90%\n",
    "- 82.15%"
   ]
  },
  {
   "cell_type": "code",
   "execution_count": 6,
   "metadata": {},
   "outputs": [],
   "source": [
    "from gensim.models.keyedvectors import KeyedVectors\n",
    "from os.path import join as path_join\n",
    "from config import APP_DIR\n",
    "\n",
    "vec = KeyedVectors.load_word2vec_format(path_join(APP_DIR, 'wiki-news-300d-1M.vec')) "
   ]
  },
  {
   "cell_type": "code",
   "execution_count": 63,
   "metadata": {},
   "outputs": [
    {
     "name": "stdout",
     "output_type": "stream",
     "text": [
      "The autoreload extension is already loaded. To reload it, use:\n",
      "  %reload_ext autoreload\n"
     ]
    }
   ],
   "source": [
    "%load_ext autoreload\n",
    "%autoreload 2\n",
    "from preprocessing.tokenizer import DictTokenizer, Tokenizer\n",
    "from models import Doc2Vec\n",
    "from models.utils import params_to_numpy\n",
    "from models import get_lgb, LGBMachine"
   ]
  },
  {
   "cell_type": "code",
   "execution_count": 30,
   "metadata": {},
   "outputs": [
    {
     "name": "stderr",
     "output_type": "stream",
     "text": [
      "[Parallel(n_jobs=1)]: Using backend SequentialBackend with 1 concurrent workers.\n"
     ]
    },
    {
     "name": "stdout",
     "output_type": "stream",
     "text": [
      "[CV]  ................................................................\n",
      "[CV] .................................... , score=0.785, total=  10.9s\n"
     ]
    },
    {
     "name": "stderr",
     "output_type": "stream",
     "text": [
      "[Parallel(n_jobs=1)]: Done   1 out of   1 | elapsed:   28.8s remaining:    0.0s\n"
     ]
    },
    {
     "name": "stdout",
     "output_type": "stream",
     "text": [
      "[CV]  ................................................................\n",
      "[CV] ................................... , score=0.8125, total=   7.8s\n"
     ]
    },
    {
     "name": "stderr",
     "output_type": "stream",
     "text": [
      "[Parallel(n_jobs=1)]: Done   2 out of   2 | elapsed:   48.5s remaining:    0.0s\n"
     ]
    },
    {
     "name": "stdout",
     "output_type": "stream",
     "text": [
      "[CV]  ................................................................\n",
      "[CV] ................................... , score=0.8175, total=   7.9s\n",
      "[CV]  ................................................................\n",
      "[CV] .................................... , score=0.825, total=   7.9s\n",
      "[CV]  ................................................................\n",
      "[CV] .................................... , score=0.805, total=   7.9s\n",
      "LGBMClassifier:  80.90%\n",
      "Time execution:\t1min 45.13sec\n",
      "------------------------------\n"
     ]
    },
    {
     "name": "stderr",
     "output_type": "stream",
     "text": [
      "[Parallel(n_jobs=1)]: Done   5 out of   5 | elapsed:  1.8min finished\n"
     ]
    }
   ],
   "source": [
    "doc2vec = Doc2Vec(vec, tokenizer=DictTokenizer().tokenize)\n",
    "classifier = lightgbm.LGBMClassifier(seed=134, n_jobs=-1)\n",
    "\n",
    "model = Pipeline([\n",
    "    ('vectorizer', doc2vec),\n",
    "    ('predictor', classifier)\n",
    "])\n",
    "with timeit_context('Time execution'):\n",
    "    print(f'{model_name(classifier)}:  {my_metric(classifier=model, verbose=3)*100:.2f}%')\n",
    "print('-' * 30)"
   ]
  },
  {
   "cell_type": "code",
   "execution_count": 31,
   "metadata": {},
   "outputs": [
    {
     "name": "stdout",
     "output_type": "stream",
     "text": [
      "100%|██████████| 10/10 [01:32<00:00,  9.95s/it, best loss: -0.8065]\n",
      "Get best lgb:\t1min 39.29sec\n"
     ]
    },
    {
     "name": "stderr",
     "output_type": "stream",
     "text": [
      "[Parallel(n_jobs=1)]: Using backend SequentialBackend with 1 concurrent workers.\n"
     ]
    },
    {
     "name": "stdout",
     "output_type": "stream",
     "text": [
      "[CV]  ................................................................\n",
      "[CV] ................................... , score=0.7825, total=  11.3s\n"
     ]
    },
    {
     "name": "stderr",
     "output_type": "stream",
     "text": [
      "[Parallel(n_jobs=1)]: Done   1 out of   1 | elapsed:   24.0s remaining:    0.0s\n"
     ]
    },
    {
     "name": "stdout",
     "output_type": "stream",
     "text": [
      "[CV]  ................................................................\n",
      "[CV] ..................................... , score=0.81, total=  11.3s\n"
     ]
    },
    {
     "name": "stderr",
     "output_type": "stream",
     "text": [
      "[Parallel(n_jobs=1)]: Done   2 out of   2 | elapsed:   46.5s remaining:    0.0s\n"
     ]
    },
    {
     "name": "stdout",
     "output_type": "stream",
     "text": [
      "[CV]  ................................................................\n",
      "[CV] .................................... , score=0.835, total=  12.8s\n",
      "[CV]  ................................................................\n",
      "[CV] .................................... , score=0.845, total=  16.1s\n",
      "[CV]  ................................................................\n",
      "[CV] .................................... , score=0.835, total=  11.6s\n",
      "LGBMachine:  82.15%\n",
      "Time execution:\t2min 3.13sec\n",
      "------------------------------\n",
      "CPU times: user 9min 29s, sys: 6.87 s, total: 9min 35s\n",
      "Wall time: 3min 42s\n"
     ]
    },
    {
     "name": "stderr",
     "output_type": "stream",
     "text": [
      "[Parallel(n_jobs=1)]: Done   5 out of   5 | elapsed:  2.1min finished\n"
     ]
    }
   ],
   "source": [
    "%%time\n",
    "\n",
    "doc2vec = Doc2Vec(vec, tokenizer=DictTokenizer().tokenize)\n",
    "with timeit_context('Get best lgb'):\n",
    "    classifier = get_lgb(x_train=doc2vec.transform(data['text']), y_train=data['target'])\n",
    "\n",
    "model = Pipeline([\n",
    "    ('vectorizer', doc2vec),\n",
    "    ('predictor', classifier)\n",
    "])\n",
    "with timeit_context('Time execution'):\n",
    "    print(f'{model_name(classifier)}:  {my_metric(classifier=model, verbose=3)*100:.2f}%')\n",
    "print('-' * 30)"
   ]
  },
  {
   "cell_type": "markdown",
   "metadata": {},
   "source": [
    "# Feature engineering\n",
    "- 86.04"
   ]
  },
  {
   "cell_type": "code",
   "execution_count": 12,
   "metadata": {},
   "outputs": [
    {
     "name": "stdout",
     "output_type": "stream",
     "text": [
      "The autoreload extension is already loaded. To reload it, use:\n",
      "  %reload_ext autoreload\n"
     ]
    }
   ],
   "source": [
    "%load_ext autoreload\n",
    "%autoreload 2\n",
    "    \n",
    "from preprocessing import FeaturesMaker, Tokenizer\n",
    "from models import BlendingFeatures, RuleBased"
   ]
  },
  {
   "cell_type": "code",
   "execution_count": 15,
   "metadata": {},
   "outputs": [
    {
     "name": "stderr",
     "output_type": "stream",
     "text": [
      "[Parallel(n_jobs=1)]: Using backend SequentialBackend with 1 concurrent workers.\n"
     ]
    },
    {
     "name": "stdout",
     "output_type": "stream",
     "text": [
      "[CV]  ................................................................\n",
      "[CV] ................................................. , total= 1.3min\n",
      "[CV]  ................................................................\n"
     ]
    },
    {
     "name": "stderr",
     "output_type": "stream",
     "text": [
      "[Parallel(n_jobs=1)]: Done   1 out of   1 | elapsed:  1.3min remaining:    0.0s\n"
     ]
    },
    {
     "name": "stdout",
     "output_type": "stream",
     "text": [
      "[CV] ................................................. , total= 1.3min\n",
      "[CV]  ................................................................\n",
      "[CV] ................................................. , total= 1.4min\n",
      "[CV]  ................................................................\n",
      "[CV] ................................................. , total= 1.3min\n",
      "[CV]  ................................................................\n",
      "[CV] ................................................. , total= 1.3min\n",
      "LGBMClassifier:  84.55%\n",
      "Time execution:\t6min 35.61sec\n",
      "------------------------------\n"
     ]
    },
    {
     "name": "stderr",
     "output_type": "stream",
     "text": [
      "[Parallel(n_jobs=1)]: Done   5 out of   5 | elapsed:  6.6min finished\n"
     ]
    }
   ],
   "source": [
    "vectorizer = TfidfVectorizer(\n",
    "    lowercase    = True,\n",
    "    tokenizer    = lambda text: Tokenizer(stem='stem', splitter=None, remove_spec=True).tokenize(text), \n",
    "    analyzer     = 'word', \n",
    "    ngram_range  = (1, 3),\n",
    "    max_df       = 0.8,\n",
    "    min_df       = 2, \n",
    "    max_features = 100000,\n",
    ")\n",
    "\n",
    "blending_features = BlendingFeatures([\n",
    "    MultinomialNB(), LogisticRegression(random_state=123142), LinearSVC(random_state=124), SGDClassifier(random_state=134, loss='hinge'),\n",
    "])\n",
    "        \n",
    "final_classifier = lightgbm.LGBMClassifier(random_state=123142, n_jobs=-1)\n",
    "        \n",
    "model = Pipeline([\n",
    "        ('blending_features', FeatureUnion([('ml_pipeline', Pipeline([('vectorizer', vectorizer), ('classifier', blending_features)])),\n",
    "        ('rule_based', RuleBased()), ('feature_engine', FeaturesMaker()) \n",
    "    ])),\n",
    "    ('predictor', final_classifier)\n",
    "])\n",
    "with timeit_context('Time execution'):\n",
    "    print(f'{model_name(final_classifier)}:  {my_metric(classifier=model, verbose=2)*100:.2f}%')\n",
    "print('-' * 30)"
   ]
  },
  {
   "cell_type": "markdown",
   "metadata": {},
   "source": [
    "# Let us create one huge Pipeline that gather all\n",
    "It seems not a good idea but let do an experiment"
   ]
  },
  {
   "cell_type": "code",
   "execution_count": 8,
   "metadata": {},
   "outputs": [],
   "source": [
    "from sklearn.feature_extraction.text import CountVectorizer, TfidfVectorizer\n",
    "from models import RuleBased, Doc2Vec, BlendingFeatures\n",
    "from preprocessing import Tokenizer, FeaturesMaker, DictTokenizer"
   ]
  },
  {
   "cell_type": "code",
   "execution_count": 21,
   "metadata": {},
   "outputs": [],
   "source": [
    "from gensim.models.keyedvectors import KeyedVectors\n",
    "from os.path import join as path_join\n",
    "from config import APP_DIR\n",
    "\n",
    "vec = KeyedVectors.load_word2vec_format(path_join(APP_DIR, 'wiki-news-300d-1M.vec')) "
   ]
  },
  {
   "cell_type": "code",
   "execution_count": 24,
   "metadata": {},
   "outputs": [],
   "source": [
    "word_vectorizer = CountVectorizer(\n",
    "    lowercase     = True, \n",
    "    tokenizer     = lambda text: Tokenizer(stem='stem', splitter=None, remove_spec=True).tokenize(text), \n",
    "    ngram_range   = (1, 2),\n",
    "    analyzer      = 'word',\n",
    "    max_df        = 1.0,\n",
    "    min_df        = 1,\n",
    "    max_features  = 10000,\n",
    ")\n",
    "\n",
    "char_vectorizer = CountVectorizer(\n",
    "    lowercase     = True, \n",
    "    tokenizer     = None, \n",
    "    ngram_range   = (3, 5),\n",
    "    analyzer      = 'char',\n",
    "    max_df        = 0.95,\n",
    "    min_df        = 10,\n",
    "    max_features  = 1000,\n",
    ")\n",
    "\n",
    "tfidf_vectorizer = TfidfVectorizer(\n",
    "    lowercase    = True,\n",
    "    tokenizer    = lambda text: Tokenizer(stem='stem', splitter=None, remove_spec=True).tokenize(text), \n",
    "    analyzer     = 'word', \n",
    "    ngram_range  = (1, 3),\n",
    "    max_df       = 0.8,\n",
    "    min_df       = 2, \n",
    "    max_features = 100000,\n",
    ")\n",
    "\n",
    "doc2vec = Doc2Vec(vec, tokenizer=DictTokenizer().tokenize)\n",
    "\n",
    "word_blending = BlendingFeatures([\n",
    "    MultinomialNB(), LogisticRegression(random_state=123142), LinearSVC(random_state=124), SGDClassifier(random_state=134, loss='hinge'),\n",
    "])\n",
    "char_blending = BlendingFeatures([\n",
    "    MultinomialNB(), LogisticRegression(random_state=123142), LinearSVC(random_state=124), SGDClassifier(random_state=134, loss='hinge'),\n",
    "])\n",
    "tfidf_blending = BlendingFeatures([\n",
    "    MultinomialNB(), LogisticRegression(random_state=123142), LinearSVC(random_state=124), SGDClassifier(random_state=134, loss='hinge'),\n",
    "])\n",
    "emb_classifier = lightgbm.LGBMClassifier(seed=134, n_jobs=-1)"
   ]
  },
  {
   "cell_type": "code",
   "execution_count": 26,
   "metadata": {},
   "outputs": [
    {
     "name": "stderr",
     "output_type": "stream",
     "text": [
      "[Parallel(n_jobs=1)]: Using backend SequentialBackend with 1 concurrent workers.\n"
     ]
    },
    {
     "name": "stdout",
     "output_type": "stream",
     "text": [
      "[CV]  ................................................................\n"
     ]
    },
    {
     "name": "stderr",
     "output_type": "stream",
     "text": [
      "WARNING:root:'LinearSVC' object has no attribute 'predict_proba'\n",
      "WARNING:root:probability estimates are not available for loss='hinge'\n",
      "WARNING:root:'LinearSVC' object has no attribute 'predict_proba'\n",
      "WARNING:root:probability estimates are not available for loss='hinge'\n",
      "WARNING:root:'LinearSVC' object has no attribute 'predict_proba'\n",
      "WARNING:root:probability estimates are not available for loss='hinge'\n",
      "WARNING:root:'LinearSVC' object has no attribute 'predict_proba'\n",
      "WARNING:root:probability estimates are not available for loss='hinge'\n",
      "WARNING:root:'LinearSVC' object has no attribute 'predict_proba'\n",
      "WARNING:root:probability estimates are not available for loss='hinge'\n",
      "WARNING:root:'LinearSVC' object has no attribute 'predict_proba'\n",
      "WARNING:root:probability estimates are not available for loss='hinge'\n"
     ]
    },
    {
     "name": "stdout",
     "output_type": "stream",
     "text": [
      "[CV] ................................... , score=0.8275, total= 1.9min\n",
      "[CV]  ................................................................\n"
     ]
    },
    {
     "name": "stderr",
     "output_type": "stream",
     "text": [
      "[Parallel(n_jobs=1)]: Done   1 out of   1 | elapsed:  1.9min remaining:    0.0s\n",
      "WARNING:root:'LinearSVC' object has no attribute 'predict_proba'\n",
      "WARNING:root:probability estimates are not available for loss='hinge'\n",
      "WARNING:root:'LinearSVC' object has no attribute 'predict_proba'\n",
      "WARNING:root:probability estimates are not available for loss='hinge'\n",
      "WARNING:root:'LinearSVC' object has no attribute 'predict_proba'\n",
      "WARNING:root:probability estimates are not available for loss='hinge'\n",
      "WARNING:root:'LinearSVC' object has no attribute 'predict_proba'\n",
      "WARNING:root:probability estimates are not available for loss='hinge'\n",
      "WARNING:root:'LinearSVC' object has no attribute 'predict_proba'\n",
      "WARNING:root:probability estimates are not available for loss='hinge'\n",
      "WARNING:root:'LinearSVC' object has no attribute 'predict_proba'\n",
      "WARNING:root:probability estimates are not available for loss='hinge'\n"
     ]
    },
    {
     "name": "stdout",
     "output_type": "stream",
     "text": [
      "[CV] ................................... , score=0.8275, total= 2.0min\n",
      "[CV]  ................................................................\n"
     ]
    },
    {
     "name": "stderr",
     "output_type": "stream",
     "text": [
      "[Parallel(n_jobs=1)]: Done   2 out of   2 | elapsed:  3.9min remaining:    0.0s\n",
      "WARNING:root:'LinearSVC' object has no attribute 'predict_proba'\n",
      "WARNING:root:probability estimates are not available for loss='hinge'\n",
      "WARNING:root:'LinearSVC' object has no attribute 'predict_proba'\n",
      "WARNING:root:probability estimates are not available for loss='hinge'\n",
      "WARNING:root:'LinearSVC' object has no attribute 'predict_proba'\n",
      "WARNING:root:probability estimates are not available for loss='hinge'\n",
      "WARNING:root:'LinearSVC' object has no attribute 'predict_proba'\n",
      "WARNING:root:probability estimates are not available for loss='hinge'\n",
      "WARNING:root:'LinearSVC' object has no attribute 'predict_proba'\n",
      "WARNING:root:probability estimates are not available for loss='hinge'\n",
      "WARNING:root:'LinearSVC' object has no attribute 'predict_proba'\n",
      "WARNING:root:probability estimates are not available for loss='hinge'\n"
     ]
    },
    {
     "name": "stdout",
     "output_type": "stream",
     "text": [
      "[CV] .................................... , score=0.865, total= 2.0min\n",
      "[CV]  ................................................................\n"
     ]
    },
    {
     "name": "stderr",
     "output_type": "stream",
     "text": [
      "[Parallel(n_jobs=1)]: Done   3 out of   3 | elapsed:  5.9min remaining:    0.0s\n",
      "WARNING:root:'LinearSVC' object has no attribute 'predict_proba'\n",
      "WARNING:root:probability estimates are not available for loss='hinge'\n",
      "WARNING:root:'LinearSVC' object has no attribute 'predict_proba'\n",
      "WARNING:root:probability estimates are not available for loss='hinge'\n",
      "WARNING:root:'LinearSVC' object has no attribute 'predict_proba'\n",
      "WARNING:root:probability estimates are not available for loss='hinge'\n",
      "WARNING:root:'LinearSVC' object has no attribute 'predict_proba'\n",
      "WARNING:root:probability estimates are not available for loss='hinge'\n",
      "WARNING:root:'LinearSVC' object has no attribute 'predict_proba'\n",
      "WARNING:root:probability estimates are not available for loss='hinge'\n",
      "WARNING:root:'LinearSVC' object has no attribute 'predict_proba'\n",
      "WARNING:root:probability estimates are not available for loss='hinge'\n"
     ]
    },
    {
     "name": "stdout",
     "output_type": "stream",
     "text": [
      "[CV] .................................... , score=0.835, total= 2.1min\n",
      "[CV]  ................................................................\n"
     ]
    },
    {
     "name": "stderr",
     "output_type": "stream",
     "text": [
      "WARNING:root:'LinearSVC' object has no attribute 'predict_proba'\n",
      "WARNING:root:probability estimates are not available for loss='hinge'\n",
      "WARNING:root:'LinearSVC' object has no attribute 'predict_proba'\n",
      "WARNING:root:probability estimates are not available for loss='hinge'\n",
      "WARNING:root:'LinearSVC' object has no attribute 'predict_proba'\n",
      "WARNING:root:probability estimates are not available for loss='hinge'\n",
      "WARNING:root:'LinearSVC' object has no attribute 'predict_proba'\n",
      "WARNING:root:probability estimates are not available for loss='hinge'\n",
      "WARNING:root:'LinearSVC' object has no attribute 'predict_proba'\n",
      "WARNING:root:probability estimates are not available for loss='hinge'\n",
      "WARNING:root:'LinearSVC' object has no attribute 'predict_proba'\n",
      "WARNING:root:probability estimates are not available for loss='hinge'\n"
     ]
    },
    {
     "name": "stdout",
     "output_type": "stream",
     "text": [
      "[CV] ................................... , score=0.8175, total= 2.0min\n",
      "LGBMClassifier:  83.45%\n",
      "Time execution:\t9min 58.59sec\n",
      "------------------------------\n"
     ]
    },
    {
     "name": "stderr",
     "output_type": "stream",
     "text": [
      "[Parallel(n_jobs=1)]: Done   5 out of   5 | elapsed: 10.0min finished\n"
     ]
    }
   ],
   "source": [
    "word_pipeline = Pipeline([\n",
    "    ('vectorizer', word_vectorizer),\n",
    "    ('predictor', word_blending)\n",
    "])\n",
    "char_pipeline = Pipeline([\n",
    "    ('vectorizer', char_vectorizer),\n",
    "    ('predictor', char_blending)\n",
    "])\n",
    "tfidf_pipeline = Pipeline([\n",
    "    ('vectorizer', tfidf_vectorizer),\n",
    "    ('predictor', tfidf_blending)\n",
    "])\n",
    "emb_pipeline = Pipeline([\n",
    "    ('vectorizer', doc2vec),\n",
    "    ('clasifier', emb_classifier)\n",
    "])\n",
    "        \n",
    "final_classifier = lightgbm.LGBMClassifier(random_state=123142, n_jobs=-1)\n",
    "        \n",
    "model = Pipeline([('features', FeatureUnion([\n",
    "    ('word_pipeline', word_pipeline),\n",
    "    ('char_pipeline', char_pipeline),\n",
    "    ('tfidf_pipeline', tfidf_pipeline),\n",
    "    ('rule_based', RuleBased()),\n",
    "    ('feature_engine', FeaturesMaker()), \n",
    "])),\n",
    "    ('predictor', final_classifier)\n",
    "])\n",
    "with timeit_context('Time execution'):\n",
    "    print(f'{model_name(final_classifier)}:  {my_metric(classifier=model, verbose=4)*100:.2f}%')\n",
    "print('-' * 30)"
   ]
  },
  {
   "cell_type": "markdown",
   "metadata": {},
   "source": [
    "# Transfer learning\n",
    "Maybe we should pretrain some LightGBM model on bigger dataset and use continuous learning in the cross val metric? (big_data was formed in Analyze.ipynb module)"
   ]
  },
  {
   "cell_type": "code",
   "execution_count": 12,
   "metadata": {},
   "outputs": [],
   "source": [
    "from sklearn.model_selection import train_test_split\n",
    "from sklearn.feature_extraction.text import TfidfVectorizer\n",
    "from sklearn.metrics import accuracy_score\n",
    "from models import Doc2Vec"
   ]
  },
  {
   "cell_type": "code",
   "execution_count": 13,
   "metadata": {},
   "outputs": [],
   "source": [
    "big_data = pd.read_parquet(path_join(DATA_DIR, 'big_data.parquet'))\n",
    "big_data_x = big_data.text\n",
    "big_data_y = big_data.target\n",
    "\n",
    "x_train, x_test, y_train, y_test = train_test_split(data['text'], data['target'], test_size=0.25, random_state=314)"
   ]
  },
  {
   "cell_type": "code",
   "execution_count": 14,
   "metadata": {},
   "outputs": [
    {
     "name": "stdout",
     "output_type": "stream",
     "text": [
      "The autoreload extension is already loaded. To reload it, use:\n",
      "  %reload_ext autoreload\n"
     ]
    }
   ],
   "source": [
    "%load_ext autoreload\n",
    "%autoreload 2\n",
    "\n",
    "# doc2vec = Doc2Vec(\n",
    "#     word2vec=vec, \n",
    "#     tokenizer = Tokenizer(stem='lem', remove_spec=True).tokenize,\n",
    "# )\n",
    "\n",
    "tfidf_vectorizer = TfidfVectorizer(\n",
    "    lowercase    = True,\n",
    "    tokenizer    = lambda text: Tokenizer(stem='stem', splitter=None, remove_spec=True).tokenize(text), \n",
    "    analyzer     = 'word', \n",
    "    ngram_range  = (1, 3),\n",
    "    max_df       = 0.8,\n",
    "    min_df       = 2, \n",
    "    max_features = 100000,\n",
    ")\n",
    "classifier = LogisticRegression(random_state=1324, n_jobs=-1)\n",
    "lgb = lightgbm.LGBMClassifier(seed=124, n_jobs=-1)\n",
    "\n",
    "model = Pipeline([\n",
    "    ('vectorizer', tfidf_vectorizer),\n",
    "    ('classifier', classifier),\n",
    "])\n",
    "\n",
    "# lgb_model = Pipeline([\n",
    "#     ('vectorizer', doc2vec),\n",
    "#     ('classifier', lgb),\n",
    "# ])\n"
   ]
  },
  {
   "cell_type": "markdown",
   "metadata": {},
   "source": [
    "#### Logistic Regression\n",
    "Let compare different x_train variants"
   ]
  },
  {
   "cell_type": "code",
   "execution_count": 36,
   "metadata": {},
   "outputs": [
    {
     "name": "stdout",
     "output_type": "stream",
     "text": [
      "Accuracy: 88.00%\n",
      "CPU times: user 4.99 s, sys: 12 µs, total: 4.99 s\n",
      "Wall time: 5 s\n"
     ]
    }
   ],
   "source": [
    "%%time\n",
    "\n",
    "with timeit_context('Fitting time'):\n",
    "    model.fit(big_data_x, big_data_y)\n",
    "\n",
    "with timeit_context('Pred time'):\n",
    "    preds = model.predict(x_test)\n",
    "    print(f'Accuracy: {accuracy_score(y_true=y_test, y_pred=preds)*100:.2f}%')"
   ]
  },
  {
   "cell_type": "code",
   "execution_count": 38,
   "metadata": {},
   "outputs": [
    {
     "name": "stdout",
     "output_type": "stream",
     "text": [
      "Fitting time:\t20.12sec\n",
      "Accuracy: 84.40%\n",
      "Pred time:\t5.53sec\n",
      "CPU times: user 25.7 s, sys: 112 ms, total: 25.8 s\n",
      "Wall time: 25.6 s\n"
     ]
    }
   ],
   "source": [
    "%%time\n",
    "\n",
    "with timeit_context('Fitting time'):\n",
    "    model.fit(x_train, y_train)\n",
    "\n",
    "with timeit_context('Pred time'):\n",
    "    preds = model.predict(x_test)\n",
    "    print(f'Accuracy: {accuracy_score(y_true=y_test, y_pred=preds)*100:.2f}%')"
   ]
  },
  {
   "cell_type": "code",
   "execution_count": 48,
   "metadata": {},
   "outputs": [
    {
     "name": "stdout",
     "output_type": "stream",
     "text": [
      "Fitting time:\t4min 40.44sec\n",
      "Accuracy: 89.60%\n",
      "Pred time:\t5.30sec\n",
      "CPU times: user 4min 43s, sys: 3.2 s, total: 4min 46s\n",
      "Wall time: 4min 45s\n"
     ]
    }
   ],
   "source": [
    "%%time\n",
    "\n",
    "with timeit_context('Fitting time'):\n",
    "    model.fit(list(big_data_x.values) + list(x_train.values), list(big_data_y.values) + list(y_train.values))\n",
    "\n",
    "with timeit_context('Pred time'):\n",
    "    preds = model.predict(x_test)\n",
    "    print(f'Accuracy: {accuracy_score(y_true=y_test, y_pred=preds)*100:.2f}%')"
   ]
  },
  {
   "cell_type": "markdown",
   "metadata": {},
   "source": [
    "### LightGBM\n",
    "Let compare different x_train variants"
   ]
  },
  {
   "cell_type": "code",
   "execution_count": 79,
   "metadata": {},
   "outputs": [
    {
     "name": "stdout",
     "output_type": "stream",
     "text": [
      "Fitting time:\t12.92sec\n",
      "Accuracy: 83.60%\n",
      "Pred time:\t2.88sec\n",
      "CPU times: user 27 s, sys: 292 ms, total: 27.3 s\n",
      "Wall time: 15.8 s\n"
     ]
    }
   ],
   "source": [
    "%%time\n",
    "\n",
    "with timeit_context('Fitting time'):\n",
    "    lgb_model.fit(x_train.values, y_train.values)\n",
    "\n",
    "with timeit_context('Pred time'):\n",
    "    preds = lgb_model.predict(x_test)\n",
    "    print(f'Accuracy: {accuracy_score(y_true=y_test, y_pred=preds)*100:.2f}%')"
   ]
  },
  {
   "cell_type": "code",
   "execution_count": 184,
   "metadata": {},
   "outputs": [
    {
     "name": "stdout",
     "output_type": "stream",
     "text": [
      "Fitting time:\t1min 12.73sec\n",
      "Accuracy: 82.00%\n",
      "Pred time:\t2.10sec\n"
     ]
    }
   ],
   "source": [
    "with timeit_context('Fitting time'):\n",
    "    lgb_model.fit(big_data_x, big_data_y)\n",
    "\n",
    "with timeit_context('Pred time'):\n",
    "    preds = lgb_model.predict(x_test)\n",
    "    print(f'Accuracy: {accuracy_score(y_true=y_test, y_pred=preds)*100:.2f}%')"
   ]
  },
  {
   "cell_type": "code",
   "execution_count": 144,
   "metadata": {},
   "outputs": [
    {
     "name": "stdout",
     "output_type": "stream",
     "text": [
      "Fitting time:\t1min 18.62sec\n",
      "Accuracy: 81.40%\n",
      "Pred time:\t2.11sec\n",
      "CPU times: user 1min 49s, sys: 250 ms, total: 1min 50s\n",
      "Wall time: 1min 20s\n"
     ]
    }
   ],
   "source": [
    "%%time\n",
    "\n",
    "with timeit_context('Fitting time'):\n",
    "    lgb_model.fit(list(big_data_x.values) + list(x_train.values), list(big_data_y.values) + list(y_train.values))\n",
    "\n",
    "with timeit_context('Pred time'):\n",
    "    preds = lgb_model.predict(x_test)\n",
    "    print(f'Accuracy: {accuracy_score(y_true=y_test, y_pred=preds)*100:.2f}%')"
   ]
  },
  {
   "cell_type": "code",
   "execution_count": 190,
   "metadata": {},
   "outputs": [
    {
     "data": {
      "text/plain": [
       "<lightgbm.basic.Booster at 0x7fef896c1cf8>"
      ]
     },
     "execution_count": 190,
     "metadata": {},
     "output_type": "execute_result"
    }
   ],
   "source": [
    "lgb_model.get_params()['steps'][1][1].booster_.save_model('light.txt')"
   ]
  },
  {
   "cell_type": "markdown",
   "metadata": {},
   "source": [
    "### Pipeline\n",
    "Let compare different x_train variants"
   ]
  },
  {
   "cell_type": "code",
   "execution_count": 10,
   "metadata": {},
   "outputs": [],
   "source": [
    "from sklearn.model_selection import KFold\n",
    "from tqdm import tqdm\n",
    "import numpy as np\n",
    "from models import BlendingFeatures\n",
    "from preprocessing import Tokenizer"
   ]
  },
  {
   "cell_type": "code",
   "execution_count": 8,
   "metadata": {},
   "outputs": [],
   "source": [
    "vectorizer = TfidfVectorizer(\n",
    "    lowercase    = True,\n",
    "    tokenizer    = lambda text: Tokenizer(stem='stem', splitter=None, remove_spec=True).tokenize(text), \n",
    "    analyzer     = 'word', \n",
    "    ngram_range  = (1, 3),\n",
    "    max_df       = 0.8,\n",
    "    min_df       = 2, \n",
    "    max_features = 100000,\n",
    ")\n",
    "\n",
    "blending_features = BlendingFeatures([\n",
    "    MultinomialNB(), LogisticRegression(random_state=123142), LinearSVC(random_state=124), SGDClassifier(random_state=134, loss='hinge'),\n",
    "])\n",
    "        \n",
    "model = Pipeline([\n",
    "    ('vectorizer', vectorizer),\n",
    "    ('classifier', blending_features),\n",
    "])"
   ]
  },
  {
   "cell_type": "code",
   "execution_count": 15,
   "metadata": {},
   "outputs": [
    {
     "name": "stderr",
     "output_type": "stream",
     "text": [
      "100%|██████████| 3/3 [10:22<00:00, 208.59s/it]\n"
     ]
    }
   ],
   "source": [
    "kfold = KFold(random_state=1324, n_splits=3, shuffle=True)\n",
    "\n",
    "mnb = MultinomialNB()\n",
    "log = LogisticRegression(random_state=123142)\n",
    "lin = LinearSVC(random_state=124)\n",
    "sgd = SGDClassifier(random_state=134)\n",
    "    \n",
    "meta_features = np.array([None] * big_data_x.shape[0])\n",
    "for train_index, test_index in tqdm(kfold.split(big_data_x), total=3):\n",
    "    train_data = vectorizer.fit_transform(big_data_x.iloc[train_index])\n",
    "    test_data  = vectorizer.transform(big_data_x.iloc[test_index])\n",
    "    mnb.fit(train_data, big_data_y.iloc[train_index])\n",
    "    lin.fit(train_data, big_data_y.iloc[train_index])\n",
    "    log.fit(train_data, big_data_y.iloc[train_index])\n",
    "    sgd.fit(train_data, big_data_y.iloc[train_index])\n",
    "    meta_features[test_index] = list(zip(\n",
    "        mnb.predict_proba(test_data)[:, 1], \n",
    "        log.predict_proba(test_data)[:, 1],\n",
    "        lin.predict(test_data),\n",
    "        sgd.predict(test_data),\n",
    "    ))"
   ]
  },
  {
   "cell_type": "code",
   "execution_count": 16,
   "metadata": {},
   "outputs": [],
   "source": [
    "meta = np.array([np.array(i) for i in meta_features])"
   ]
  },
  {
   "cell_type": "code",
   "execution_count": 52,
   "metadata": {},
   "outputs": [
    {
     "name": "stdout",
     "output_type": "stream",
     "text": [
      "The autoreload extension is already loaded. To reload it, use:\n",
      "  %reload_ext autoreload\n"
     ]
    }
   ],
   "source": [
    "%load_ext autoreload\n",
    "%autoreload 2\n",
    "from models import get_lgb"
   ]
  },
  {
   "cell_type": "code",
   "execution_count": 53,
   "metadata": {},
   "outputs": [
    {
     "name": "stdout",
     "output_type": "stream",
     "text": [
      "100%|██████████| 50/50 [01:33<00:00,  1.56s/it, best loss: -0.89748]\n"
     ]
    },
    {
     "data": {
      "text/plain": [
       "<lightgbm.basic.Booster at 0x7f3c842db2b0>"
      ]
     },
     "execution_count": 53,
     "metadata": {},
     "output_type": "execute_result"
    }
   ],
   "source": [
    "# lgb = lightgbm.LGBMClassifier(seed=124, n_jobs=-1).fit(meta, big_data_y.values)\n",
    "lgb = get_lgb(meta, big_data_y.values)\n",
    "# lgb_model.get_params()['steps'][1][1].booster_.save_model('light.txt.init')\n",
    "lgb.model.booster_.save_model('light.txt.init')"
   ]
  },
  {
   "cell_type": "code",
   "execution_count": 54,
   "metadata": {},
   "outputs": [
    {
     "data": {
      "text/plain": [
       "LGBMClassifier(bagging_fraction=0.75, boosting_type='gbdt', class_weight=None,\n",
       "        colsample_bytree=1.0, feature_fraction=0.8,\n",
       "        importance_type='split', learning_rate=0.061500000000000006,\n",
       "        max_depth=3, max_drop=33, min_child_samples=20,\n",
       "        min_child_weight=0.001, min_data_in_leaf=62, min_split_gain=0.0,\n",
       "        n_estimators=100, n_jobs=-1, num_iterations=151, num_leaves=77,\n",
       "        objective=None, random_state=None, reg_alpha=0.0, reg_lambda=0.0,\n",
       "        silent=True, subsample=1.0, subsample_for_bin=200000,\n",
       "        subsample_freq=0)"
      ]
     },
     "execution_count": 54,
     "metadata": {},
     "output_type": "execute_result"
    }
   ],
   "source": [
    "lgb.model"
   ]
  },
  {
   "cell_type": "markdown",
   "metadata": {},
   "source": [
    "# Transfer learning\n",
    "### Let's try transfer learning with lgb\n",
    "- 76.7%\n",
    "- 85.55%\n",
    "- 86.05%"
   ]
  },
  {
   "cell_type": "code",
   "execution_count": 7,
   "metadata": {},
   "outputs": [
    {
     "ename": "NameError",
     "evalue": "name 'doc2vec' is not defined",
     "output_type": "error",
     "traceback": [
      "\u001b[0;31m---------------------------------------------------------------------------\u001b[0m",
      "\u001b[0;31mNameError\u001b[0m                                 Traceback (most recent call last)",
      "\u001b[0;32m<ipython-input-7-f6ed9a21d416>\u001b[0m in \u001b[0;36m<module>\u001b[0;34m\u001b[0m\n\u001b[1;32m     16\u001b[0m \u001b[0;34m\u001b[0m\u001b[0m\n\u001b[1;32m     17\u001b[0m lgb_model1 = Pipeline([\n\u001b[0;32m---> 18\u001b[0;31m     \u001b[0;34m(\u001b[0m\u001b[0;34m'vectorizer'\u001b[0m\u001b[0;34m,\u001b[0m \u001b[0mdoc2vec\u001b[0m\u001b[0;34m)\u001b[0m\u001b[0;34m,\u001b[0m\u001b[0;34m\u001b[0m\u001b[0;34m\u001b[0m\u001b[0m\n\u001b[0m\u001b[1;32m     19\u001b[0m     \u001b[0;34m(\u001b[0m\u001b[0;34m'classifier'\u001b[0m\u001b[0;34m,\u001b[0m \u001b[0mlight_model\u001b[0m\u001b[0;34m)\u001b[0m\u001b[0;34m,\u001b[0m\u001b[0;34m\u001b[0m\u001b[0;34m\u001b[0m\u001b[0m\n\u001b[1;32m     20\u001b[0m ])\n",
      "\u001b[0;31mNameError\u001b[0m: name 'doc2vec' is not defined"
     ]
    }
   ],
   "source": [
    "class Light(object):\n",
    "    def __init__(self, model_path, threshold: float = 0.5):\n",
    "        self.model_path = model_path\n",
    "        self.model = None\n",
    "        self.threshold = threshold\n",
    "        \n",
    "    def fit(self, x_train, y_train):\n",
    "        self.model = lightgbm.train(params={}, train_set=lightgbm.Dataset(x_train, y_train), init_model=self.model_path)\n",
    "        return self\n",
    "        \n",
    "    def predict(self, x_test):\n",
    "        return [i > self.threshold for i in self.model.predict(x_test)]\n",
    "    \n",
    "    \n",
    "light_model = Light(model_path='light.txt.init')\n",
    "\n",
    "lgb_model1 = Pipeline([\n",
    "    ('vectorizer', doc2vec),\n",
    "    ('classifier', light_model),\n",
    "])\n",
    "\n",
    "with timeit_context('Time execution'):\n",
    "    print(f'{model_name(final_classifier)}:  {my_metric(classifier=lgb_model1, verbose=4)*100:.2f}%')\n",
    "print('-' * 30)"
   ]
  },
  {
   "cell_type": "code",
   "execution_count": 55,
   "metadata": {},
   "outputs": [
    {
     "name": "stdout",
     "output_type": "stream",
     "text": [
      "The autoreload extension is already loaded. To reload it, use:\n",
      "  %reload_ext autoreload\n"
     ]
    }
   ],
   "source": [
    "%load_ext autoreload\n",
    "%autoreload 2\n",
    "\n",
    "from models.blending import BlendingFeatures\n",
    "\n",
    "blending_features = BlendingFeatures([\n",
    "    MultinomialNB(),\n",
    "    LogisticRegression(random_state=123142), LinearSVC(random_state=124), SGDClassifier(random_state=134, loss='hinge'),\n",
    "])"
   ]
  },
  {
   "cell_type": "code",
   "execution_count": 60,
   "metadata": {},
   "outputs": [
    {
     "data": {
      "text/plain": [
       "{'boosting_type': 'gbdt',\n",
       " 'class_weight': None,\n",
       " 'colsample_bytree': 1.0,\n",
       " 'importance_type': 'split',\n",
       " 'learning_rate': 0.061500000000000006,\n",
       " 'max_depth': 3,\n",
       " 'min_child_samples': 20,\n",
       " 'min_child_weight': 0.001,\n",
       " 'min_split_gain': 0.0,\n",
       " 'n_estimators': 100,\n",
       " 'n_jobs': -1,\n",
       " 'num_leaves': 77,\n",
       " 'objective': None,\n",
       " 'random_state': None,\n",
       " 'reg_alpha': 0.0,\n",
       " 'reg_lambda': 0.0,\n",
       " 'silent': True,\n",
       " 'subsample': 1.0,\n",
       " 'subsample_for_bin': 200000,\n",
       " 'subsample_freq': 0,\n",
       " 'bagging_fraction': 0.75,\n",
       " 'feature_fraction': 0.8,\n",
       " 'max_drop': 33,\n",
       " 'min_data_in_leaf': 62,\n",
       " 'num_iterations': 151}"
      ]
     },
     "execution_count": 60,
     "metadata": {},
     "output_type": "execute_result"
    }
   ],
   "source": [
    "lgb.model.get_params()"
   ]
  },
  {
   "cell_type": "code",
   "execution_count": 56,
   "metadata": {},
   "outputs": [
    {
     "name": "stderr",
     "output_type": "stream",
     "text": [
      "[Parallel(n_jobs=1)]: Using backend SequentialBackend with 1 concurrent workers.\n"
     ]
    },
    {
     "name": "stdout",
     "output_type": "stream",
     "text": [
      "[CV]  ................................................................\n"
     ]
    },
    {
     "name": "stderr",
     "output_type": "stream",
     "text": [
      "WARNING:root:'LinearSVC' object has no attribute 'predict_proba'\n",
      "WARNING:root:probability estimates are not available for loss='hinge'\n",
      "WARNING:root:'LinearSVC' object has no attribute 'predict_proba'\n",
      "WARNING:root:probability estimates are not available for loss='hinge'\n",
      "[Parallel(n_jobs=1)]: Done   1 out of   1 | elapsed:   24.3s remaining:    0.0s\n"
     ]
    },
    {
     "name": "stdout",
     "output_type": "stream",
     "text": [
      "[CV] ................................... , score=0.8725, total=  24.3s\n",
      "[CV]  ................................................................\n"
     ]
    },
    {
     "name": "stderr",
     "output_type": "stream",
     "text": [
      "WARNING:root:'LinearSVC' object has no attribute 'predict_proba'\n",
      "WARNING:root:probability estimates are not available for loss='hinge'\n",
      "WARNING:root:'LinearSVC' object has no attribute 'predict_proba'\n",
      "WARNING:root:probability estimates are not available for loss='hinge'\n",
      "[Parallel(n_jobs=1)]: Done   2 out of   2 | elapsed:   48.0s remaining:    0.0s\n"
     ]
    },
    {
     "name": "stdout",
     "output_type": "stream",
     "text": [
      "[CV] .................................... , score=0.845, total=  23.6s\n",
      "[CV]  ................................................................\n"
     ]
    },
    {
     "name": "stderr",
     "output_type": "stream",
     "text": [
      "WARNING:root:'LinearSVC' object has no attribute 'predict_proba'\n",
      "WARNING:root:probability estimates are not available for loss='hinge'\n",
      "WARNING:root:'LinearSVC' object has no attribute 'predict_proba'\n",
      "WARNING:root:probability estimates are not available for loss='hinge'\n",
      "[Parallel(n_jobs=1)]: Done   3 out of   3 | elapsed:  1.2min remaining:    0.0s\n"
     ]
    },
    {
     "name": "stdout",
     "output_type": "stream",
     "text": [
      "[CV] ................................... , score=0.8875, total=  23.6s\n",
      "[CV]  ................................................................\n"
     ]
    },
    {
     "name": "stderr",
     "output_type": "stream",
     "text": [
      "WARNING:root:'LinearSVC' object has no attribute 'predict_proba'\n",
      "WARNING:root:probability estimates are not available for loss='hinge'\n",
      "WARNING:root:'LinearSVC' object has no attribute 'predict_proba'\n",
      "WARNING:root:probability estimates are not available for loss='hinge'\n"
     ]
    },
    {
     "name": "stdout",
     "output_type": "stream",
     "text": [
      "[CV] .................................... , score=0.855, total=  23.8s\n",
      "[CV]  ................................................................\n"
     ]
    },
    {
     "name": "stderr",
     "output_type": "stream",
     "text": [
      "WARNING:root:'LinearSVC' object has no attribute 'predict_proba'\n",
      "WARNING:root:probability estimates are not available for loss='hinge'\n",
      "WARNING:root:'LinearSVC' object has no attribute 'predict_proba'\n",
      "WARNING:root:probability estimates are not available for loss='hinge'\n"
     ]
    },
    {
     "name": "stdout",
     "output_type": "stream",
     "text": [
      "[CV] ................................... , score=0.8425, total=  23.5s\n",
      "Light:  86.05%\n",
      "Time execution:\t1min 59.36sec\n",
      "------------------------------\n"
     ]
    },
    {
     "name": "stderr",
     "output_type": "stream",
     "text": [
      "[Parallel(n_jobs=1)]: Done   5 out of   5 | elapsed:  2.0min finished\n"
     ]
    }
   ],
   "source": [
    "class Light(object):\n",
    "    def __init__(self, model_path, threshold: float = 0.5):\n",
    "        self.model_path = model_path\n",
    "        self.model      = None\n",
    "        self.threshold  = threshold\n",
    "        \n",
    "    def fit(self, x_train, y_train):\n",
    "        self.model = lightgbm.train(params={'seed': 123, 'n_jobs': -1}, train_set=lightgbm.Dataset(x_train, y_train), init_model=self.model_path)\n",
    "        return self\n",
    "        \n",
    "    def predict(self, x_test):\n",
    "        return [i > self.threshold for i in self.model.predict(x_test)]\n",
    "\n",
    "light = Light(model_path='light.txt.init')\n",
    "model = Pipeline([\n",
    "    ('vectorizer', vectorizer),\n",
    "    ('blending', blending_features),\n",
    "    ('final_classfier', light)\n",
    "])\n",
    "\n",
    "with timeit_context('Time execution'):\n",
    "    print(f'{model_name(light)}:  {my_metric(classifier=model, verbose=4)*100:.2f}%')\n",
    "print('-' * 30)"
   ]
  },
  {
   "cell_type": "markdown",
   "metadata": {},
   "source": [
    "# VedarModel\n",
    "- 50.00%\n",
    "- 62.50%\n",
    "- 61.95%"
   ]
  },
  {
   "cell_type": "code",
   "execution_count": 40,
   "metadata": {},
   "outputs": [
    {
     "name": "stderr",
     "output_type": "stream",
     "text": [
      "[Parallel(n_jobs=-1)]: Using backend LokyBackend with 4 concurrent workers.\n",
      "[Parallel(n_jobs=-1)]: Done   2 out of   5 | elapsed:  2.8min remaining:  4.2min\n"
     ]
    },
    {
     "name": "stdout",
     "output_type": "stream",
     "text": [
      "Vedar:  61.95%\n",
      "Time execution:\t3min 55.92sec\n",
      "------------------------------\n"
     ]
    },
    {
     "name": "stderr",
     "output_type": "stream",
     "text": [
      "[Parallel(n_jobs=-1)]: Done   5 out of   5 | elapsed:  3.9min finished\n"
     ]
    }
   ],
   "source": [
    "from vaderSentiment.vaderSentiment import SentimentIntensityAnalyzer\n",
    "from sklearn.base import BaseEstimator\n",
    "from sklearn.metrics import accuracy_score\n",
    "import numpy as np\n",
    "from copy import deepcopy\n",
    "\n",
    "class Vedar(BaseEstimator):\n",
    "    def __init__(self, eval_metric = accuracy_score):\n",
    "        self.analyser = SentimentIntensityAnalyzer()\n",
    "        self.threshold = 0.0\n",
    "        self.eval_metric = eval_metric\n",
    "        \n",
    "    def fit(self, x_train, y_train):\n",
    "        predictions = [self.analyser.polarity_scores(sample) for sample in x_train]\n",
    "        predictions = np.array([pred['pos'] + pred['neu'] * 0.5 for pred in predictions])\n",
    "        eval_metrics = []\n",
    "        thrs         = []\n",
    "        for thr in np.arange(0.05, 0.9, 0.05):\n",
    "            eval_metrics.append(self.eval_metric(predictions > thr, y_train))\n",
    "            thrs.append(thr)\n",
    "        self.threshold = thrs[np.argmax(eval_metrics)]\n",
    "        \n",
    "        # return (pos - neg) / (max([pos, neg]))\n",
    "        # return pos / (pos + neg)\n",
    "\n",
    "        return self\n",
    "    \n",
    "    def predict(self, x_test):\n",
    "        predictions = [self.analyser.polarity_scores(sample) for sample in x_test]\n",
    "        print(predictions)\n",
    "        return np.array([pred['pos'] + pred['neu'] * 0.5 > self.threshold for pred in predictions])\n",
    "    \n",
    "vedar = Vedar()\n",
    "\n",
    "with timeit_context('Time execution'):\n",
    "    print(f'{model_name(vedar)}:  {my_metric(classifier=vedar, verbose=4, n_jobs=-1)*100:.2f}%')\n",
    "print('-' * 30)"
   ]
  }
 ],
 "metadata": {
  "kernelspec": {
   "display_name": "Python 3.7 ucu",
   "language": "python",
   "name": "ucu"
  },
  "language_info": {
   "codemirror_mode": {
    "name": "ipython",
    "version": 3
   },
   "file_extension": ".py",
   "mimetype": "text/x-python",
   "name": "python",
   "nbconvert_exporter": "python",
   "pygments_lexer": "ipython3",
   "version": "3.7.3"
  }
 },
 "nbformat": 4,
 "nbformat_minor": 2
}
